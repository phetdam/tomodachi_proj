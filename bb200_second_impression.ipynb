{
 "cells": [
  {
   "cell_type": "markdown",
   "metadata": {},
   "source": [
    "## Spotify Billboard 200 Second Impression\n",
    "\n",
    "Refer to `bb200_first_impressions.ipynb` for the initial run-through and analysis of the features. In this notebook, we will quickly prepare the data for modeling in the same way we did in the first notebook, but perform some feature selection on our data. In the first notebook, we successfully fit a single decision tree with 75% cross-validated and out of sample accuracies; we will reuse its parameters during our feature selection process, try some over-under sampling, and then proceed to use AdaBoost to see if we can get additional predictive power through additive classifying trees."
   ]
  },
  {
   "cell_type": "code",
   "execution_count": 79,
   "metadata": {},
   "outputs": [],
   "source": [
    "import pandas as pd\n",
    "import numpy as np\n",
    "import matplotlib.pyplot as plt\n",
    "import seaborn as sns\n",
    "from sklearn.preprocessing import StandardScaler\n",
    "from sklearn.tree import DecisionTreeClassifier\n",
    "from sklearn.ensemble import AdaBoostClassifier\n",
    "from sklearn.feature_selection import RFECV\n",
    "from sklearn.model_selection import GridSearchCV, cross_val_score, train_test_split\n",
    "from sklearn.metrics import confusion_matrix, precision_score, roc_curve, roc_auc_score\n",
    "from imblearn.combine import SMOTEENN\n",
    "sns.set()\n",
    "%matplotlib inline"
   ]
  },
  {
   "cell_type": "markdown",
   "metadata": {},
   "source": [
    "### Data preprocessing\n",
    "\n",
    "As in `bb200_first_impressions.ipynb`, we first preprocess our data to deal with the missing values and standardize our continuous features.\n",
    "\n",
    "**Remark.** Refer to `bb200_first_impressions.ipynb` for why exactly the code is as it is below."
   ]
  },
  {
   "cell_type": "code",
   "execution_count": 18,
   "metadata": {
    "scrolled": true
   },
   "outputs": [
    {
     "name": "stdout",
     "output_type": "stream",
     "text": [
      "X shape: (339850, 26)\ty shape: (339850, 1)\n"
     ]
    },
    {
     "data": {
      "text/html": [
       "<div>\n",
       "<style scoped>\n",
       "    .dataframe tbody tr th:only-of-type {\n",
       "        vertical-align: middle;\n",
       "    }\n",
       "\n",
       "    .dataframe tbody tr th {\n",
       "        vertical-align: top;\n",
       "    }\n",
       "\n",
       "    .dataframe thead th {\n",
       "        text-align: right;\n",
       "    }\n",
       "</style>\n",
       "<table border=\"1\" class=\"dataframe\">\n",
       "  <thead>\n",
       "    <tr style=\"text-align: right;\">\n",
       "      <th></th>\n",
       "      <th>acousticness</th>\n",
       "      <th>duration_ms</th>\n",
       "      <th>energy</th>\n",
       "      <th>instrumentalness</th>\n",
       "      <th>liveness</th>\n",
       "      <th>loudness</th>\n",
       "      <th>speechiness</th>\n",
       "      <th>tempo</th>\n",
       "      <th>valence</th>\n",
       "      <th>key_0</th>\n",
       "      <th>...</th>\n",
       "      <th>key_5</th>\n",
       "      <th>key_6</th>\n",
       "      <th>key_7</th>\n",
       "      <th>key_8</th>\n",
       "      <th>key_9</th>\n",
       "      <th>tim_0</th>\n",
       "      <th>tim_1</th>\n",
       "      <th>tim_3</th>\n",
       "      <th>tim_4</th>\n",
       "      <th>tim_5</th>\n",
       "    </tr>\n",
       "  </thead>\n",
       "  <tbody>\n",
       "    <tr>\n",
       "      <td>0</td>\n",
       "      <td>-0.771097</td>\n",
       "      <td>-0.923511</td>\n",
       "      <td>0.189653</td>\n",
       "      <td>-0.406136</td>\n",
       "      <td>-0.615265</td>\n",
       "      <td>0.600249</td>\n",
       "      <td>2.594201</td>\n",
       "      <td>-0.978872</td>\n",
       "      <td>-1.181590</td>\n",
       "      <td>0</td>\n",
       "      <td>...</td>\n",
       "      <td>0</td>\n",
       "      <td>1</td>\n",
       "      <td>0</td>\n",
       "      <td>0</td>\n",
       "      <td>0</td>\n",
       "      <td>0</td>\n",
       "      <td>0</td>\n",
       "      <td>0</td>\n",
       "      <td>1</td>\n",
       "      <td>0</td>\n",
       "    </tr>\n",
       "    <tr>\n",
       "      <td>1</td>\n",
       "      <td>-0.021569</td>\n",
       "      <td>-0.820553</td>\n",
       "      <td>-0.814268</td>\n",
       "      <td>-0.406136</td>\n",
       "      <td>-0.592036</td>\n",
       "      <td>0.002556</td>\n",
       "      <td>0.507205</td>\n",
       "      <td>0.200423</td>\n",
       "      <td>-0.522012</td>\n",
       "      <td>0</td>\n",
       "      <td>...</td>\n",
       "      <td>0</td>\n",
       "      <td>0</td>\n",
       "      <td>1</td>\n",
       "      <td>0</td>\n",
       "      <td>0</td>\n",
       "      <td>0</td>\n",
       "      <td>0</td>\n",
       "      <td>0</td>\n",
       "      <td>1</td>\n",
       "      <td>0</td>\n",
       "    </tr>\n",
       "    <tr>\n",
       "      <td>2</td>\n",
       "      <td>-0.462095</td>\n",
       "      <td>-0.209574</td>\n",
       "      <td>-0.666753</td>\n",
       "      <td>-0.405946</td>\n",
       "      <td>-0.545580</td>\n",
       "      <td>0.013206</td>\n",
       "      <td>0.266696</td>\n",
       "      <td>-1.002308</td>\n",
       "      <td>-1.225035</td>\n",
       "      <td>0</td>\n",
       "      <td>...</td>\n",
       "      <td>0</td>\n",
       "      <td>0</td>\n",
       "      <td>0</td>\n",
       "      <td>1</td>\n",
       "      <td>0</td>\n",
       "      <td>0</td>\n",
       "      <td>0</td>\n",
       "      <td>0</td>\n",
       "      <td>1</td>\n",
       "      <td>0</td>\n",
       "    </tr>\n",
       "    <tr>\n",
       "      <td>3</td>\n",
       "      <td>-0.898500</td>\n",
       "      <td>-0.462059</td>\n",
       "      <td>0.185556</td>\n",
       "      <td>-0.406136</td>\n",
       "      <td>-0.568808</td>\n",
       "      <td>0.833240</td>\n",
       "      <td>1.632166</td>\n",
       "      <td>-0.885787</td>\n",
       "      <td>-0.285038</td>\n",
       "      <td>0</td>\n",
       "      <td>...</td>\n",
       "      <td>0</td>\n",
       "      <td>0</td>\n",
       "      <td>0</td>\n",
       "      <td>0</td>\n",
       "      <td>1</td>\n",
       "      <td>0</td>\n",
       "      <td>0</td>\n",
       "      <td>0</td>\n",
       "      <td>1</td>\n",
       "      <td>0</td>\n",
       "    </tr>\n",
       "    <tr>\n",
       "      <td>4</td>\n",
       "      <td>-0.872513</td>\n",
       "      <td>-0.429865</td>\n",
       "      <td>0.021650</td>\n",
       "      <td>-0.406136</td>\n",
       "      <td>-0.382983</td>\n",
       "      <td>0.960603</td>\n",
       "      <td>0.313246</td>\n",
       "      <td>2.371132</td>\n",
       "      <td>-0.000669</td>\n",
       "      <td>0</td>\n",
       "      <td>...</td>\n",
       "      <td>0</td>\n",
       "      <td>1</td>\n",
       "      <td>0</td>\n",
       "      <td>0</td>\n",
       "      <td>0</td>\n",
       "      <td>0</td>\n",
       "      <td>0</td>\n",
       "      <td>0</td>\n",
       "      <td>1</td>\n",
       "      <td>0</td>\n",
       "    </tr>\n",
       "  </tbody>\n",
       "</table>\n",
       "<p>5 rows × 26 columns</p>\n",
       "</div>"
      ],
      "text/plain": [
       "   acousticness  duration_ms    energy  instrumentalness  liveness  loudness  \\\n",
       "0     -0.771097    -0.923511  0.189653         -0.406136 -0.615265  0.600249   \n",
       "1     -0.021569    -0.820553 -0.814268         -0.406136 -0.592036  0.002556   \n",
       "2     -0.462095    -0.209574 -0.666753         -0.405946 -0.545580  0.013206   \n",
       "3     -0.898500    -0.462059  0.185556         -0.406136 -0.568808  0.833240   \n",
       "4     -0.872513    -0.429865  0.021650         -0.406136 -0.382983  0.960603   \n",
       "\n",
       "   speechiness     tempo   valence  key_0  ...  key_5  key_6  key_7  key_8  \\\n",
       "0     2.594201 -0.978872 -1.181590      0  ...      0      1      0      0   \n",
       "1     0.507205  0.200423 -0.522012      0  ...      0      0      1      0   \n",
       "2     0.266696 -1.002308 -1.225035      0  ...      0      0      0      1   \n",
       "3     1.632166 -0.885787 -0.285038      0  ...      0      0      0      0   \n",
       "4     0.313246  2.371132 -0.000669      0  ...      0      1      0      0   \n",
       "\n",
       "   key_9  tim_0  tim_1  tim_3  tim_4  tim_5  \n",
       "0      0      0      0      0      1      0  \n",
       "1      0      0      0      0      1      0  \n",
       "2      0      0      0      0      1      0  \n",
       "3      1      0      0      0      1      0  \n",
       "4      0      0      0      0      1      0  \n",
       "\n",
       "[5 rows x 26 columns]"
      ]
     },
     "execution_count": 18,
     "metadata": {},
     "output_type": "execute_result"
    }
   ],
   "source": [
    "# raw data\n",
    "af_raw = pd.read_csv(\"./data/acoustic_features.csv\")\n",
    "# amend missing data\n",
    "af_raw.iloc[241999, 3] = \"Kenny G\"\n",
    "af_raw.loc[pd.isna(af_raw[\"artist\"]), af_raw.columns == \"artist\"] = \"Various Artists\"\n",
    "# create X and y; note that y is categorical now\n",
    "X = af_raw.loc[:, af_raw.columns != \"danceability\"].dropna().copy()\n",
    "y = pd.DataFrame(map(lambda x : 1 if x > 0.5 else 0, af_raw[\"danceability\"].dropna()),\n",
    "                columns = [\"danceable\"], index = X.index)\n",
    "# standardize continuous features (we might want to run other models later)\n",
    "cont_cols = [\"acousticness\", \"duration_ms\", \"energy\", \"instrumentalness\", \"liveness\", \n",
    "             \"loudness\", \"speechiness\", \"tempo\", \"valence\"]\n",
    "# scale continuous columns and make new DataFrame out of them\n",
    "sscl = StandardScaler()\n",
    "Xs_cont = pd.DataFrame(sscl.fit_transform(X[cont_cols]), columns = cont_cols)\n",
    "# get dummies for key and time_signature (mode is already 1 for major, 0 for minor)\n",
    "# we ignore mode since mode is 1 for major, 0 for minor\n",
    "cat_cols = [\"key\", \"time_signature\"]\n",
    "# get dummies for each of the columns; need to map to string to be treated as categorical\n",
    "X_cat = None\n",
    "for cc in cat_cols:\n",
    "    ccat = pd.get_dummies(pd.DataFrame(map(lambda x: str(int(x)), X[cc]), columns = [cc]), \n",
    "                          prefix = cc[:3])\n",
    "    if X_cat is None: X_cat = ccat\n",
    "    else: X_cat = X_cat.merge(ccat, how = \"outer\", left_index = True, right_index = True)\n",
    "# merge standardized continuous features with categorical features\n",
    "X = Xs_cont.merge(X_cat, how = \"outer\", left_index = True, right_index = True)\n",
    "# check shapes of X, y\n",
    "print(\"X shape: {0}\\ty shape: {1}\".format(X.shape, y.shape))\n",
    "# preview X\n",
    "X.head()"
   ]
  },
  {
   "cell_type": "markdown",
   "metadata": {},
   "source": [
    "Now we are ready to do some cross-validated feature selection using the same decision tree we tuned in `bb200_fist_impressions.ipynb`."
   ]
  },
  {
   "cell_type": "markdown",
   "metadata": {},
   "source": [
    "### CV feature selection: decision tree\n",
    "\n",
    "We tuned the decision tree already, so we will use the same hyperparameters and instead focus on selecting features. As usual, we do an 80-20 training and test split, and cross-validate on the training portion to select our features before reporting test performance. Again, we choose accuracy as the criterion, and perform 5-fold cross-validation on our training data during our feature selection.\n",
    "\n",
    "**Remark.** The entire feature selection process takes around ~15 minutes on my machine, using 2 cores. Results may vary."
   ]
  },
  {
   "cell_type": "code",
   "execution_count": 22,
   "metadata": {},
   "outputs": [
    {
     "name": "stderr",
     "output_type": "stream",
     "text": [
      "c:\\users\\d\\start\\python3\\lib\\site-packages\\sklearn\\utils\\validation.py:724: DataConversionWarning: A column-vector y was passed when a 1d array was expected. Please change the shape of y to (n_samples, ), for example using ravel().\n",
      "  y = column_or_1d(y, warn=True)\n"
     ]
    },
    {
     "name": "stdout",
     "output_type": "stream",
     "text": [
      "Fitting estimator with 26 features.\n",
      "Fitting estimator with 25 features.\n",
      "Fitting estimator with 24 features.\n",
      "Fitting estimator with 23 features.\n",
      "Fitting estimator with 22 features.\n",
      "Fitting estimator with 21 features.\n",
      "Fitting estimator with 20 features.\n",
      "Fitting estimator with 19 features.\n",
      "Fitting estimator with 18 features.\n",
      "Fitting estimator with 17 features.\n",
      "Fitting estimator with 16 features.\n",
      "Fitting estimator with 15 features.\n",
      "Fitting estimator with 14 features.\n",
      "Fitting estimator with 13 features.\n",
      "Fitting estimator with 12 features.\n",
      "Fitting estimator with 11 features.\n"
     ]
    },
    {
     "data": {
      "text/plain": [
       "RFECV(cv=5,\n",
       "      estimator=DecisionTreeClassifier(class_weight=None, criterion='entropy',\n",
       "                                       max_depth=25, max_features='auto',\n",
       "                                       max_leaf_nodes=None,\n",
       "                                       min_impurity_decrease=0.0,\n",
       "                                       min_impurity_split=None,\n",
       "                                       min_samples_leaf=1, min_samples_split=40,\n",
       "                                       min_weight_fraction_leaf=0.0,\n",
       "                                       presort=False, random_state=None,\n",
       "                                       splitter='best'),\n",
       "      min_features_to_select=1, n_jobs=2, scoring='accuracy', step=1,\n",
       "      verbose=1)"
      ]
     },
     "execution_count": 22,
     "metadata": {},
     "output_type": "execute_result"
    }
   ],
   "source": [
    "# create tuned decision tree and RFECV objects with 5-fold CV\n",
    "dtc = DecisionTreeClassifier(criterion = \"entropy\", max_depth = 25, max_features = \"auto\",\n",
    "                             min_samples_split = 40)\n",
    "dtc_rfecv = RFECV(dtc, cv = 5, scoring = \"accuracy\", verbose = 1, n_jobs = 2)\n",
    "# 80/20 train test split and feature selection on the training data\n",
    "X_train, X_test, y_train, y_test = train_test_split(X, y, test_size = 0.2, random_state = 5)\n",
    "dtc_rfecv.fit(X_train, y_train)"
   ]
  },
  {
   "cell_type": "markdown",
   "metadata": {},
   "source": [
    "Now that we have pruned our feature matrix, let's see which features were selected during feature elimination, and how many of them we have."
   ]
  },
  {
   "cell_type": "code",
   "execution_count": 28,
   "metadata": {},
   "outputs": [
    {
     "name": "stdout",
     "output_type": "stream",
     "text": [
      "Index(['acousticness', 'duration_ms', 'energy', 'instrumentalness', 'liveness',\n",
      "       'loudness', 'speechiness', 'tempo', 'valence', 'tim_4'],\n",
      "      dtype='object')\n",
      "10 selected features\n"
     ]
    }
   ],
   "source": [
    "sfdf = X.columns[dtc_rfecv.support_]\n",
    "print(\"{0}\\n{1} selected features\".format(sfdf, len(sfdf)))"
   ]
  },
  {
   "cell_type": "markdown",
   "metadata": {},
   "source": [
    "We have thus gone from 26 features to 10 features. Interestingly, most of our categorical features have been dropped. Let us check our cross-validated training and our holdout test accuracies to see if there is any meaningful difference between the two."
   ]
  },
  {
   "cell_type": "code",
   "execution_count": 29,
   "metadata": {},
   "outputs": [
    {
     "name": "stdout",
     "output_type": "stream",
     "text": [
      "train accuracy:\t0.84893\n",
      "test accuracy:\t0.75457\n"
     ]
    }
   ],
   "source": [
    "print(\"train accuracy:\\t{0:.5f}\\ntest accuracy:\\t{1:.5f}\".format(dtc_rfecv.score(X_train, y_train), \n",
    "                                                                 dtc_rfecv.score(X_test, y_test)))"
   ]
  },
  {
   "cell_type": "markdown",
   "metadata": {},
   "source": [
    "Hm, it looks like our tree has overfit a lot more than we have liked it to, as we have nearly a 10% decrease in accuracy on the test data. However, this test accuracy is still about the same as what we had for our decision tree in `bb200_first_impressions.ipynb`, and using far fewer features."
   ]
  },
  {
   "cell_type": "markdown",
   "metadata": {},
   "source": [
    "### Over-under sampling: decision tree\n",
    "\n",
    "In a previous semester, my BAC group had shown that using the `imblearn` method `SMOTEENN`, a combination of using the SMOTE (Synthetic Minority Oversampling TEchnique) algorithm with edited nearest neighbors, helped to improve the accuracy of a decision tree trained on a multi-class data set with unbalanced class proportions. We show the same plot as in `bb200_first_impressions.ipynb` to show the minority class imbalance."
   ]
  },
  {
   "cell_type": "code",
   "execution_count": 36,
   "metadata": {},
   "outputs": [
    {
     "data": {
      "text/plain": [
       "<matplotlib.axes._subplots.AxesSubplot at 0x26686110>"
      ]
     },
     "execution_count": 36,
     "metadata": {},
     "output_type": "execute_result"
    },
    {
     "data": {
      "image/png": "[encoded data removed]",
      "text/plain": [
       "<Figure size 288x216 with 1 Axes>"
      ]
     },
     "metadata": {
      "needs_background": "light"
     },
     "output_type": "display_data"
    }
   ],
   "source": [
    "fig, ax = plt.subplots(nrows = 1, ncols = 1, figsize = (4, 3))\n",
    "sns.countplot(y[\"danceable\"], ax = ax)"
   ]
  },
  {
   "cell_type": "markdown",
   "metadata": {},
   "source": [
    "However, only `SMOTENC`, a vanilla SMOTE implementation for both categorical and continuous data, can be used given the presence of categorical features. But as was revealed from recursive feature elimination, only one of the categorical features, `tim_4`, which indicates that a song has 4 beats per measure, was included among our 10 selected features. Let's drop that feature to create our reduced feature matrix `Xr`, and then apply `SMOTEENN`."
   ]
  },
  {
   "cell_type": "code",
   "execution_count": 33,
   "metadata": {},
   "outputs": [
    {
     "data": {
      "text/html": [
       "<div>\n",
       "<style scoped>\n",
       "    .dataframe tbody tr th:only-of-type {\n",
       "        vertical-align: middle;\n",
       "    }\n",
       "\n",
       "    .dataframe tbody tr th {\n",
       "        vertical-align: top;\n",
       "    }\n",
       "\n",
       "    .dataframe thead th {\n",
       "        text-align: right;\n",
       "    }\n",
       "</style>\n",
       "<table border=\"1\" class=\"dataframe\">\n",
       "  <thead>\n",
       "    <tr style=\"text-align: right;\">\n",
       "      <th></th>\n",
       "      <th>acousticness</th>\n",
       "      <th>duration_ms</th>\n",
       "      <th>energy</th>\n",
       "      <th>instrumentalness</th>\n",
       "      <th>liveness</th>\n",
       "      <th>loudness</th>\n",
       "      <th>speechiness</th>\n",
       "      <th>tempo</th>\n",
       "      <th>valence</th>\n",
       "    </tr>\n",
       "  </thead>\n",
       "  <tbody>\n",
       "    <tr>\n",
       "      <td>0</td>\n",
       "      <td>-0.771097</td>\n",
       "      <td>-0.923511</td>\n",
       "      <td>0.189653</td>\n",
       "      <td>-0.406136</td>\n",
       "      <td>-0.615265</td>\n",
       "      <td>0.600249</td>\n",
       "      <td>2.594201</td>\n",
       "      <td>-0.978872</td>\n",
       "      <td>-1.181590</td>\n",
       "    </tr>\n",
       "    <tr>\n",
       "      <td>1</td>\n",
       "      <td>-0.021569</td>\n",
       "      <td>-0.820553</td>\n",
       "      <td>-0.814268</td>\n",
       "      <td>-0.406136</td>\n",
       "      <td>-0.592036</td>\n",
       "      <td>0.002556</td>\n",
       "      <td>0.507205</td>\n",
       "      <td>0.200423</td>\n",
       "      <td>-0.522012</td>\n",
       "    </tr>\n",
       "    <tr>\n",
       "      <td>2</td>\n",
       "      <td>-0.462095</td>\n",
       "      <td>-0.209574</td>\n",
       "      <td>-0.666753</td>\n",
       "      <td>-0.405946</td>\n",
       "      <td>-0.545580</td>\n",
       "      <td>0.013206</td>\n",
       "      <td>0.266696</td>\n",
       "      <td>-1.002308</td>\n",
       "      <td>-1.225035</td>\n",
       "    </tr>\n",
       "    <tr>\n",
       "      <td>3</td>\n",
       "      <td>-0.898500</td>\n",
       "      <td>-0.462059</td>\n",
       "      <td>0.185556</td>\n",
       "      <td>-0.406136</td>\n",
       "      <td>-0.568808</td>\n",
       "      <td>0.833240</td>\n",
       "      <td>1.632166</td>\n",
       "      <td>-0.885787</td>\n",
       "      <td>-0.285038</td>\n",
       "    </tr>\n",
       "    <tr>\n",
       "      <td>4</td>\n",
       "      <td>-0.872513</td>\n",
       "      <td>-0.429865</td>\n",
       "      <td>0.021650</td>\n",
       "      <td>-0.406136</td>\n",
       "      <td>-0.382983</td>\n",
       "      <td>0.960603</td>\n",
       "      <td>0.313246</td>\n",
       "      <td>2.371132</td>\n",
       "      <td>-0.000669</td>\n",
       "    </tr>\n",
       "  </tbody>\n",
       "</table>\n",
       "</div>"
      ],
      "text/plain": [
       "   acousticness  duration_ms    energy  instrumentalness  liveness  loudness  \\\n",
       "0     -0.771097    -0.923511  0.189653         -0.406136 -0.615265  0.600249   \n",
       "1     -0.021569    -0.820553 -0.814268         -0.406136 -0.592036  0.002556   \n",
       "2     -0.462095    -0.209574 -0.666753         -0.405946 -0.545580  0.013206   \n",
       "3     -0.898500    -0.462059  0.185556         -0.406136 -0.568808  0.833240   \n",
       "4     -0.872513    -0.429865  0.021650         -0.406136 -0.382983  0.960603   \n",
       "\n",
       "   speechiness     tempo   valence  \n",
       "0     2.594201 -0.978872 -1.181590  \n",
       "1     0.507205  0.200423 -0.522012  \n",
       "2     0.266696 -1.002308 -1.225035  \n",
       "3     1.632166 -0.885787 -0.285038  \n",
       "4     0.313246  2.371132 -0.000669  "
      ]
     },
     "execution_count": 33,
     "metadata": {},
     "output_type": "execute_result"
    }
   ],
   "source": [
    "Xr = X[sfdf[:-1]].copy()\n",
    "Xr.head()"
   ]
  },
  {
   "cell_type": "markdown",
   "metadata": {},
   "source": [
    "`SMOTEEN` will give us a modified `Xr` which we will call `Xm` and a modified `y` which we will call `ym`. Now that we have our resampled data, we will perform a grid search to tune a single decision tree to see how it may affect our results. Then, we may move to using AdaBoost to create an additive tree model. (0240)\n",
    "\n",
    "**Remark.** This cell took around 3 minutes to run using `n_jobs = 2` on my machine. Results may vary."
   ]
  },
  {
   "cell_type": "code",
   "execution_count": 52,
   "metadata": {},
   "outputs": [
    {
     "name": "stdout",
     "output_type": "stream",
     "text": [
      "Xr shape: (339850, 9)\ty shape: (339850, 1)\n"
     ]
    },
    {
     "name": "stderr",
     "output_type": "stream",
     "text": [
      "c:\\users\\d\\start\\python3\\lib\\site-packages\\sklearn\\utils\\validation.py:724: DataConversionWarning: A column-vector y was passed when a 1d array was expected. Please change the shape of y to (n_samples, ), for example using ravel().\n",
      "  y = column_or_1d(y, warn=True)\n"
     ]
    },
    {
     "name": "stdout",
     "output_type": "stream",
     "text": [
      "Xm shape: (236555, 9)\tym shape: (236555, 1)\n"
     ]
    }
   ],
   "source": [
    "# use constant seed for test purposes and balance classes equally. [try] to run on \n",
    "# two threads (not guaranteed) as multithreading not necessarily possible due to \n",
    "# python's (notorious?) global interpreter lock\n",
    "sme = SMOTEENN(sampling_strategy = 1, random_state = 11, n_jobs = 2)\n",
    "# check shape pre-resample\n",
    "print(\"Xr shape: {0}\\ty shape: {1}\".format(Xr.shape, y.shape))\n",
    "# resample to equally balance classes; put ym back in DataFrame\n",
    "Xm, ym = sme.fit_resample(Xr, y)\n",
    "ym = pd.DataFrame(ym, columns = [\"danceable\"])\n",
    "# check shape post-resample\n",
    "print(\"Xm shape: {0}\\tym shape: {1}\".format(Xm.shape, ym.shape))"
   ]
  },
  {
   "cell_type": "markdown",
   "metadata": {},
   "source": [
    "We quickly check the class frequencies in our new modified response vector `ym`."
   ]
  },
  {
   "cell_type": "code",
   "execution_count": 53,
   "metadata": {},
   "outputs": [
    {
     "data": {
      "text/plain": [
       "<matplotlib.axes._subplots.AxesSubplot at 0x273205f0>"
      ]
     },
     "execution_count": 53,
     "metadata": {},
     "output_type": "execute_result"
    },
    {
     "data": {
      "image/png": "[encoded data removed]",
      "text/plain": [
       "<Figure size 288x216 with 1 Axes>"
      ]
     },
     "metadata": {
      "needs_background": "light"
     },
     "output_type": "display_data"
    }
   ],
   "source": [
    "fig, ax = plt.subplots(nrows = 1, ncols = 1, figsize = (4, 3))\n",
    "sns.countplot(ym[\"danceable\"], ax = ax)"
   ]
  },
  {
   "cell_type": "markdown",
   "metadata": {},
   "source": [
    "We perform the usual 80/20 `train_test_split` to get our training and test partitions, and perform a 5-fold cross-validated grid search using `GridSearchCV` to tune the parameters of our single decision tree. Again, we use accuracy as the scoring statistic.\n",
    "\n",
    "**Remark.** This cell took around 4 minutes to run using `n_jobs = 2` on my machine. Results may vary."
   ]
  },
  {
   "cell_type": "code",
   "execution_count": 54,
   "metadata": {},
   "outputs": [
    {
     "name": "stdout",
     "output_type": "stream",
     "text": [
      "Fitting 5 folds for each of 40 candidates, totalling 200 fits\n"
     ]
    },
    {
     "name": "stderr",
     "output_type": "stream",
     "text": [
      "[Parallel(n_jobs=2)]: Using backend LokyBackend with 2 concurrent workers.\n",
      "[Parallel(n_jobs=2)]: Done  46 tasks      | elapsed:   53.4s\n",
      "[Parallel(n_jobs=2)]: Done 196 tasks      | elapsed:  3.9min\n",
      "[Parallel(n_jobs=2)]: Done 200 out of 200 | elapsed:  4.1min finished\n"
     ]
    },
    {
     "data": {
      "text/plain": [
       "GridSearchCV(cv=5, error_score='raise-deprecating',\n",
       "             estimator=DecisionTreeClassifier(class_weight=None,\n",
       "                                              criterion='entropy',\n",
       "                                              max_depth=None, max_features=None,\n",
       "                                              max_leaf_nodes=None,\n",
       "                                              min_impurity_decrease=0.0,\n",
       "                                              min_impurity_split=None,\n",
       "                                              min_samples_leaf=1,\n",
       "                                              min_samples_split=2,\n",
       "                                              min_weight_fraction_leaf=0.0,\n",
       "                                              presort=False, random_state=None,\n",
       "                                              splitter='best'),\n",
       "             iid='warn', n_jobs=2,\n",
       "             param_grid={'max_depth': [20, 25, 50, None],\n",
       "                         'max_features': ['auto', None],\n",
       "                         'min_samples_split': [2, 10, 20, 40, 50]},\n",
       "             pre_dispatch='2*n_jobs', refit=True, return_train_score=False,\n",
       "             scoring='accuracy', verbose=1)"
      ]
     },
     "execution_count": 54,
     "metadata": {},
     "output_type": "execute_result"
    }
   ],
   "source": [
    "# again, we use constant random state for testing purposes\n",
    "Xm_train, Xm_test, ym_train, ym_test = train_test_split(Xm, ym, test_size = 0.2, random_state = 7)\n",
    "# new decision tree classifier; again use entropy\n",
    "dtc = DecisionTreeClassifier(criterion = \"entropy\")\n",
    "# same parameter grid as in bb200_first_impressions.ipynb but with some added values\n",
    "param_grid = {\"min_samples_split\": [2, 10, 20, 40, 50], \n",
    "              \"max_depth\": [20, 25, 50, None], \n",
    "              \"max_features\": [\"auto\", None]}\n",
    "# again use accuracy as scoring metric, 5 fold cross validation, and 2 core parallel\n",
    "dtc_gscv = GridSearchCV(dtc, param_grid, scoring = \"accuracy\", n_jobs = 2, cv = 5, verbose = 1)\n",
    "dtc_gscv.fit(Xm_train, ym_train)"
   ]
  },
  {
   "cell_type": "markdown",
   "metadata": {},
   "source": [
    "As usual, we check the average cross-validated training score (accuracy) and the test score of the best fitted tree."
   ]
  },
  {
   "cell_type": "code",
   "execution_count": 55,
   "metadata": {},
   "outputs": [
    {
     "name": "stdout",
     "output_type": "stream",
     "text": [
      "5-fold CV grid accuracy:\t0.91193\n",
      "best tree grid accuracy:\t0.91617\n",
      "best tree test accuracy:\t0.92177\n"
     ]
    },
    {
     "data": {
      "text/plain": [
       "DecisionTreeClassifier(class_weight=None, criterion='entropy', max_depth=20,\n",
       "                       max_features=None, max_leaf_nodes=None,\n",
       "                       min_impurity_decrease=0.0, min_impurity_split=None,\n",
       "                       min_samples_leaf=1, min_samples_split=2,\n",
       "                       min_weight_fraction_leaf=0.0, presort=False,\n",
       "                       random_state=None, splitter='best')"
      ]
     },
     "execution_count": 55,
     "metadata": {},
     "output_type": "execute_result"
    }
   ],
   "source": [
    "# our best decision tree estimator\n",
    "dtc_best = dtc_gscv.best_estimator_\n",
    "print(\"5-fold CV grid accuracy:\\t{0:.5f}\\nbest tree grid accuracy:\\t{1:.5f}\\n\"\n",
    "      \"best tree test accuracy:\\t{2:.5f}\"\n",
    "      \"\".format(dtc_gscv.cv_results_[\"mean_test_score\"].mean(), dtc_gscv.best_score_, \n",
    "                dtc_best.score(Xm_test, ym_test)))\n",
    "# our best decision tree estimator\n",
    "dtc_best"
   ]
  },
  {
   "cell_type": "markdown",
   "metadata": {},
   "source": [
    "Wow! This is a **dramatic** improvement over the 75% we were getting earlier! And it shows that we are not overfitting either, as our test accuracy is even slightly better than the training cross-validated accuracy. Hooray! We create a confusion matrix to check misclassification rates, which are looking quite good; they are a dramatic improvement over what we saw in `bb200_first_impressions.ipynb`. So far, it looks like we have the ideal tree to begin boosting."
   ]
  },
  {
   "cell_type": "code",
   "execution_count": 102,
   "metadata": {},
   "outputs": [
    {
     "name": "stdout",
     "output_type": "stream",
     "text": [
      "misclassification rate for 0: 0.07299\n",
      "misclassification rate for 1: 0.08438\n"
     ]
    }
   ],
   "source": [
    "# our confusion matrix\n",
    "cmat = confusion_matrix(ym_test, dtc_best.predict(Xm_test))\n",
    "print(\"misclassification rate for 0: {0:.5f}\\nmisclassification rate for 1: {1:.5f}\"\n",
    "      \"\".format(cmat[0][1] / sum(cmat[0]), cmat[1][0] / sum(cmat[1])))"
   ]
  },
  {
   "cell_type": "markdown",
   "metadata": {},
   "source": [
    "To show some additional metrics, we show the model's precision, compute its AUC, and visualize the confusion matrix with its ROC curve."
   ]
  },
  {
   "cell_type": "code",
   "execution_count": 112,
   "metadata": {},
   "outputs": [
    {
     "name": "stdout",
     "output_type": "stream",
     "text": [
      "best tree test precision:\t0.91441\n",
      "best tree test AUC:\t\t0.92132\n"
     ]
    },
    {
     "data": {
      "image/png": "[encoded data removed]",
      "text/plain": [
       "<Figure size 720x360 with 2 Axes>"
      ]
     },
     "metadata": {
      "needs_background": "light"
     },
     "output_type": "display_data"
    }
   ],
   "source": [
    "# predicted values from test feature matrix\n",
    "ym_test_pred = dtc_best.predict(Xm_test)\n",
    "print(\"best tree test precision:\\t{0:.5f}\\nbest tree test AUC:\\t\\t{1:.5f}\" \n",
    "      \"\".format(precision_score(ym_test, ym_test_pred), roc_auc_score(ym_test, ym_test_pred)))\n",
    "# get fpr, tpr\n",
    "ym_test_fpr, ym_test_tpr, thresholds = roc_curve(ym_test, ym_test_pred)\n",
    "fig, axs = plt.subplots(nrows = 1, ncols = 2, figsize = (10, 5))\n",
    "axs[0].set_title(\"confusion matrix for best DecisionTreeClassifier\")\n",
    "sns.heatmap(cmat, annot = True, cmap = \"Blues\", cbar = False, ax = axs[0], fmt = \"d\")\n",
    "axs[1].set_title(\"ROC curve for best DecisionTreeClassifer\")\n",
    "axs[1].set_xlabel(\"false positive rate\")\n",
    "axs[1].set_ylabel(\"true positive rate\")\n",
    "sns.lineplot(ym_test_fpr, ym_test_tpr, color = \"coral\", ax = axs[1])\n",
    "# supposed to prevent plots from overlapping but made the graphs more square\n",
    "fig.tight_layout()"
   ]
  },
  {
   "cell_type": "markdown",
   "metadata": {},
   "source": [
    "For a single, not too deep decision tree classifier, this is pretty good. The ROC curve could use some work, but considering that we were starting out from 75%, we have come quite far. In the next section, we will move to try and increase our accuracy just a little bit more by using AdaBoost to create an additive model out of individual trees. But if we are happy with 92% accuracy and this ROC curve, we can stop here."
   ]
  },
  {
   "cell_type": "markdown",
   "metadata": {},
   "source": [
    "### Boosting with AdaBoost: decision tree"
   ]
  }
 ],
 "metadata": {
  "kernelspec": {
   "display_name": "Python 3",
   "language": "python",
   "name": "python3"
  },
  "language_info": {
   "codemirror_mode": {
    "name": "ipython",
    "version": 3
   },
   "file_extension": ".py",
   "mimetype": "text/x-python",
   "name": "python",
   "nbconvert_exporter": "python",
   "pygments_lexer": "ipython3",
   "version": "3.7.4"
  }
 },
 "nbformat": 4,
 "nbformat_minor": 2
}
