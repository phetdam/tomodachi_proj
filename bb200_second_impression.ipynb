{
 "cells": [
  {
   "cell_type": "markdown",
   "metadata": {},
   "source": [
    "## Spotify Billboard 200 Second Impression\n",
    "\n",
    "Refer to `bb200_first_impressions.ipynb` for the initial run-through and analysis of the features. In this notebook, we will quickly prepare the data for modeling in the same way we did in the first notebook, but perform some feature selection on our data. In the first notebook, we successfully fit a single decision tree with 75% cross-validated and out of sample accuracies; we will reuse its parameters during our feature selection process, try some over-under sampling, and then proceed to use AdaBoost to see if we can get additional predictive power through additive classifying trees. Then, by accessing the `feature_importances_` property of boosted tree classifiers, we examine which features are important, and hypothesize on the whys."
   ]
  },
  {
   "cell_type": "code",
   "execution_count": 258,
   "metadata": {},
   "outputs": [],
   "source": [
    "import pandas as pd\n",
    "import numpy as np\n",
    "import matplotlib.pyplot as plt\n",
    "import seaborn as sns\n",
    "import pickle\n",
    "from sklearn.preprocessing import StandardScaler\n",
    "from sklearn.tree import DecisionTreeClassifier\n",
    "from sklearn.ensemble import AdaBoostClassifier\n",
    "from sklearn.feature_selection import RFECV\n",
    "from sklearn.model_selection import GridSearchCV, cross_val_score, train_test_split\n",
    "from sklearn.metrics import confusion_matrix, precision_score, roc_curve, roc_auc_score\n",
    "from imblearn.combine import SMOTEENN\n",
    "# custom visualization function\n",
    "from multiclass_stats import multiclass_stats\n",
    "sns.set()\n",
    "%matplotlib inline"
   ]
  },
  {
   "cell_type": "markdown",
   "metadata": {},
   "source": [
    "### Data preprocessing\n",
    "\n",
    "As in `bb200_first_impressions.ipynb`, we first preprocess our data to deal with the missing values and standardize our continuous features.\n",
    "\n",
    "**Remark.** Refer to `bb200_first_impressions.ipynb` for why exactly the code is as it is below."
   ]
  },
  {
   "cell_type": "code",
   "execution_count": 3,
   "metadata": {
    "scrolled": true
   },
   "outputs": [
    {
     "name": "stdout",
     "output_type": "stream",
     "text": [
      "X shape: (339850, 26)\ty shape: (339850, 1)\n"
     ]
    },
    {
     "data": {
      "text/html": [
       "<div>\n",
       "<style scoped>\n",
       "    .dataframe tbody tr th:only-of-type {\n",
       "        vertical-align: middle;\n",
       "    }\n",
       "\n",
       "    .dataframe tbody tr th {\n",
       "        vertical-align: top;\n",
       "    }\n",
       "\n",
       "    .dataframe thead th {\n",
       "        text-align: right;\n",
       "    }\n",
       "</style>\n",
       "<table border=\"1\" class=\"dataframe\">\n",
       "  <thead>\n",
       "    <tr style=\"text-align: right;\">\n",
       "      <th></th>\n",
       "      <th>acousticness</th>\n",
       "      <th>duration_ms</th>\n",
       "      <th>energy</th>\n",
       "      <th>instrumentalness</th>\n",
       "      <th>liveness</th>\n",
       "      <th>loudness</th>\n",
       "      <th>speechiness</th>\n",
       "      <th>tempo</th>\n",
       "      <th>valence</th>\n",
       "      <th>key_0</th>\n",
       "      <th>...</th>\n",
       "      <th>key_5</th>\n",
       "      <th>key_6</th>\n",
       "      <th>key_7</th>\n",
       "      <th>key_8</th>\n",
       "      <th>key_9</th>\n",
       "      <th>tim_0</th>\n",
       "      <th>tim_1</th>\n",
       "      <th>tim_3</th>\n",
       "      <th>tim_4</th>\n",
       "      <th>tim_5</th>\n",
       "    </tr>\n",
       "  </thead>\n",
       "  <tbody>\n",
       "    <tr>\n",
       "      <td>0</td>\n",
       "      <td>-0.771097</td>\n",
       "      <td>-0.923511</td>\n",
       "      <td>0.189653</td>\n",
       "      <td>-0.406136</td>\n",
       "      <td>-0.615265</td>\n",
       "      <td>0.600249</td>\n",
       "      <td>2.594201</td>\n",
       "      <td>-0.978872</td>\n",
       "      <td>-1.181590</td>\n",
       "      <td>0</td>\n",
       "      <td>...</td>\n",
       "      <td>0</td>\n",
       "      <td>1</td>\n",
       "      <td>0</td>\n",
       "      <td>0</td>\n",
       "      <td>0</td>\n",
       "      <td>0</td>\n",
       "      <td>0</td>\n",
       "      <td>0</td>\n",
       "      <td>1</td>\n",
       "      <td>0</td>\n",
       "    </tr>\n",
       "    <tr>\n",
       "      <td>1</td>\n",
       "      <td>-0.021569</td>\n",
       "      <td>-0.820553</td>\n",
       "      <td>-0.814268</td>\n",
       "      <td>-0.406136</td>\n",
       "      <td>-0.592036</td>\n",
       "      <td>0.002556</td>\n",
       "      <td>0.507205</td>\n",
       "      <td>0.200423</td>\n",
       "      <td>-0.522012</td>\n",
       "      <td>0</td>\n",
       "      <td>...</td>\n",
       "      <td>0</td>\n",
       "      <td>0</td>\n",
       "      <td>1</td>\n",
       "      <td>0</td>\n",
       "      <td>0</td>\n",
       "      <td>0</td>\n",
       "      <td>0</td>\n",
       "      <td>0</td>\n",
       "      <td>1</td>\n",
       "      <td>0</td>\n",
       "    </tr>\n",
       "    <tr>\n",
       "      <td>2</td>\n",
       "      <td>-0.462095</td>\n",
       "      <td>-0.209574</td>\n",
       "      <td>-0.666753</td>\n",
       "      <td>-0.405946</td>\n",
       "      <td>-0.545580</td>\n",
       "      <td>0.013206</td>\n",
       "      <td>0.266696</td>\n",
       "      <td>-1.002308</td>\n",
       "      <td>-1.225035</td>\n",
       "      <td>0</td>\n",
       "      <td>...</td>\n",
       "      <td>0</td>\n",
       "      <td>0</td>\n",
       "      <td>0</td>\n",
       "      <td>1</td>\n",
       "      <td>0</td>\n",
       "      <td>0</td>\n",
       "      <td>0</td>\n",
       "      <td>0</td>\n",
       "      <td>1</td>\n",
       "      <td>0</td>\n",
       "    </tr>\n",
       "    <tr>\n",
       "      <td>3</td>\n",
       "      <td>-0.898500</td>\n",
       "      <td>-0.462059</td>\n",
       "      <td>0.185556</td>\n",
       "      <td>-0.406136</td>\n",
       "      <td>-0.568808</td>\n",
       "      <td>0.833240</td>\n",
       "      <td>1.632166</td>\n",
       "      <td>-0.885787</td>\n",
       "      <td>-0.285038</td>\n",
       "      <td>0</td>\n",
       "      <td>...</td>\n",
       "      <td>0</td>\n",
       "      <td>0</td>\n",
       "      <td>0</td>\n",
       "      <td>0</td>\n",
       "      <td>1</td>\n",
       "      <td>0</td>\n",
       "      <td>0</td>\n",
       "      <td>0</td>\n",
       "      <td>1</td>\n",
       "      <td>0</td>\n",
       "    </tr>\n",
       "    <tr>\n",
       "      <td>4</td>\n",
       "      <td>-0.872513</td>\n",
       "      <td>-0.429865</td>\n",
       "      <td>0.021650</td>\n",
       "      <td>-0.406136</td>\n",
       "      <td>-0.382983</td>\n",
       "      <td>0.960603</td>\n",
       "      <td>0.313246</td>\n",
       "      <td>2.371132</td>\n",
       "      <td>-0.000669</td>\n",
       "      <td>0</td>\n",
       "      <td>...</td>\n",
       "      <td>0</td>\n",
       "      <td>1</td>\n",
       "      <td>0</td>\n",
       "      <td>0</td>\n",
       "      <td>0</td>\n",
       "      <td>0</td>\n",
       "      <td>0</td>\n",
       "      <td>0</td>\n",
       "      <td>1</td>\n",
       "      <td>0</td>\n",
       "    </tr>\n",
       "  </tbody>\n",
       "</table>\n",
       "<p>5 rows × 26 columns</p>\n",
       "</div>"
      ],
      "text/plain": [
       "   acousticness  duration_ms    energy  instrumentalness  liveness  loudness  \\\n",
       "0     -0.771097    -0.923511  0.189653         -0.406136 -0.615265  0.600249   \n",
       "1     -0.021569    -0.820553 -0.814268         -0.406136 -0.592036  0.002556   \n",
       "2     -0.462095    -0.209574 -0.666753         -0.405946 -0.545580  0.013206   \n",
       "3     -0.898500    -0.462059  0.185556         -0.406136 -0.568808  0.833240   \n",
       "4     -0.872513    -0.429865  0.021650         -0.406136 -0.382983  0.960603   \n",
       "\n",
       "   speechiness     tempo   valence  key_0  ...  key_5  key_6  key_7  key_8  \\\n",
       "0     2.594201 -0.978872 -1.181590      0  ...      0      1      0      0   \n",
       "1     0.507205  0.200423 -0.522012      0  ...      0      0      1      0   \n",
       "2     0.266696 -1.002308 -1.225035      0  ...      0      0      0      1   \n",
       "3     1.632166 -0.885787 -0.285038      0  ...      0      0      0      0   \n",
       "4     0.313246  2.371132 -0.000669      0  ...      0      1      0      0   \n",
       "\n",
       "   key_9  tim_0  tim_1  tim_3  tim_4  tim_5  \n",
       "0      0      0      0      0      1      0  \n",
       "1      0      0      0      0      1      0  \n",
       "2      0      0      0      0      1      0  \n",
       "3      1      0      0      0      1      0  \n",
       "4      0      0      0      0      1      0  \n",
       "\n",
       "[5 rows x 26 columns]"
      ]
     },
     "execution_count": 3,
     "metadata": {},
     "output_type": "execute_result"
    }
   ],
   "source": [
    "# raw data\n",
    "af_raw = pd.read_csv(\"./data/acoustic_features.csv\")\n",
    "# amend missing data\n",
    "af_raw.iloc[241999, 3] = \"Kenny G\"\n",
    "af_raw.loc[pd.isna(af_raw[\"artist\"]), af_raw.columns == \"artist\"] = \"Various Artists\"\n",
    "# create X and y; note that y is categorical now\n",
    "X = af_raw.loc[:, af_raw.columns != \"danceability\"].dropna().copy()\n",
    "y = pd.DataFrame(map(lambda x : 1 if x > 0.5 else 0, af_raw[\"danceability\"].dropna()),\n",
    "                columns = [\"danceable\"], index = X.index)\n",
    "# standardize continuous features (we might want to run other models later)\n",
    "cont_cols = [\"acousticness\", \"duration_ms\", \"energy\", \"instrumentalness\", \"liveness\", \n",
    "             \"loudness\", \"speechiness\", \"tempo\", \"valence\"]\n",
    "# scale continuous columns and make new DataFrame out of them\n",
    "sscl = StandardScaler()\n",
    "Xs_cont = pd.DataFrame(sscl.fit_transform(X[cont_cols]), columns = cont_cols)\n",
    "# get dummies for key and time_signature (mode is already 1 for major, 0 for minor)\n",
    "# we ignore mode since mode is 1 for major, 0 for minor\n",
    "cat_cols = [\"key\", \"time_signature\"]\n",
    "# get dummies for each of the columns; need to map to string to be treated as categorical\n",
    "X_cat = None\n",
    "for cc in cat_cols:\n",
    "    ccat = pd.get_dummies(pd.DataFrame(map(lambda x: str(int(x)), X[cc]), columns = [cc]), \n",
    "                          prefix = cc[:3])\n",
    "    if X_cat is None: X_cat = ccat\n",
    "    else: X_cat = X_cat.merge(ccat, how = \"outer\", left_index = True, right_index = True)\n",
    "# merge standardized continuous features with categorical features\n",
    "X = Xs_cont.merge(X_cat, how = \"outer\", left_index = True, right_index = True)\n",
    "# check shapes of X, y\n",
    "print(\"X shape: {0}\\ty shape: {1}\".format(X.shape, y.shape))\n",
    "# preview X\n",
    "X.head()"
   ]
  },
  {
   "cell_type": "markdown",
   "metadata": {},
   "source": [
    "Now we are ready to do some cross-validated feature selection using the same decision tree we tuned in `bb200_first_impressions.ipynb`. We will first save the full data matrix for future analyses so we don't have to rerun everything again.\n",
    "\n",
    "**Remark.** `X` is kind of large, so please wait a few seconds for the cell below to finish running."
   ]
  },
  {
   "cell_type": "code",
   "execution_count": 102,
   "metadata": {},
   "outputs": [],
   "source": [
    "X.to_csv(\"./data/X_full.csv\", index = False)"
   ]
  },
  {
   "cell_type": "markdown",
   "metadata": {},
   "source": [
    "### CV feature selection: decision tree\n",
    "\n",
    "We tuned the decision tree already, so we will use the same hyperparameters and instead focus on selecting features. As usual, we do an 80-20 training and test split, and cross-validate on the training portion to select our features before reporting test performance. Again, we choose accuracy as the criterion, and perform 5-fold cross-validation on our training data during our feature selection.\n",
    "\n",
    "**Remark.** The entire feature selection process takes around ~2 minutes on my machine, using 2 cores. Runtime/feature selection results may vary."
   ]
  },
  {
   "cell_type": "code",
   "execution_count": 69,
   "metadata": {},
   "outputs": [
    {
     "name": "stderr",
     "output_type": "stream",
     "text": [
      "c:\\users\\d\\start\\python3\\lib\\site-packages\\sklearn\\utils\\validation.py:724: DataConversionWarning: A column-vector y was passed when a 1d array was expected. Please change the shape of y to (n_samples, ), for example using ravel().\n",
      "  y = column_or_1d(y, warn=True)\n"
     ]
    },
    {
     "name": "stdout",
     "output_type": "stream",
     "text": [
      "Fitting estimator with 26 features.\n",
      "Fitting estimator with 25 features.\n",
      "Fitting estimator with 24 features.\n",
      "Fitting estimator with 23 features.\n",
      "Fitting estimator with 22 features.\n",
      "Fitting estimator with 21 features.\n",
      "Fitting estimator with 20 features.\n",
      "Fitting estimator with 19 features.\n",
      "Fitting estimator with 18 features.\n",
      "Fitting estimator with 17 features.\n",
      "Fitting estimator with 16 features.\n",
      "Fitting estimator with 15 features.\n",
      "Fitting estimator with 14 features.\n",
      "Fitting estimator with 13 features.\n",
      "Fitting estimator with 12 features.\n",
      "Fitting estimator with 11 features.\n"
     ]
    },
    {
     "data": {
      "text/plain": [
       "RFECV(cv=5,\n",
       "      estimator=DecisionTreeClassifier(class_weight=None, criterion='entropy',\n",
       "                                       max_depth=25, max_features='auto',\n",
       "                                       max_leaf_nodes=None,\n",
       "                                       min_impurity_decrease=0.0,\n",
       "                                       min_impurity_split=None,\n",
       "                                       min_samples_leaf=1, min_samples_split=40,\n",
       "                                       min_weight_fraction_leaf=0.0,\n",
       "                                       presort=False, random_state=None,\n",
       "                                       splitter='best'),\n",
       "      min_features_to_select=1, n_jobs=2, scoring='accuracy', step=1,\n",
       "      verbose=1)"
      ]
     },
     "execution_count": 69,
     "metadata": {},
     "output_type": "execute_result"
    }
   ],
   "source": [
    "# create tuned decision tree and RFECV objects with 5-fold CV\n",
    "dtc = DecisionTreeClassifier(criterion = \"entropy\", max_depth = 25, max_features = \"auto\",\n",
    "                             min_samples_split = 40)\n",
    "dtc_rfecv = RFECV(dtc, cv = 5, scoring = \"accuracy\", verbose = 1, n_jobs = 2)\n",
    "# 80/20 train test split and feature selection on the training data\n",
    "X_train, X_test, y_train, y_test = train_test_split(X, y, test_size = 0.2, random_state = 5)\n",
    "dtc_rfecv.fit(X_train, y_train)"
   ]
  },
  {
   "cell_type": "markdown",
   "metadata": {},
   "source": [
    "Now that we have pruned our feature matrix, let's see which features were selected during feature elimination, and how many of them we have."
   ]
  },
  {
   "cell_type": "code",
   "execution_count": 72,
   "metadata": {},
   "outputs": [
    {
     "name": "stdout",
     "output_type": "stream",
     "text": [
      "Index(['acousticness', 'duration_ms', 'energy', 'instrumentalness', 'liveness',\n",
      "       'loudness', 'speechiness', 'tempo', 'valence', 'tim_4'],\n",
      "      dtype='object')\n",
      "10 selected features\n"
     ]
    }
   ],
   "source": [
    "sfdf = X.columns[dtc_rfecv.support_]\n",
    "print(\"{0}\\n{1} selected features\".format(sfdf, len(sfdf)))"
   ]
  },
  {
   "cell_type": "markdown",
   "metadata": {},
   "source": [
    "We have thus gone from 26 features to 10 features. Interestingly, most of our categorical features have been dropped. Let us check our cross-validated training and our holdout test accuracies to see if there is any meaningful difference between the two."
   ]
  },
  {
   "cell_type": "code",
   "execution_count": 73,
   "metadata": {},
   "outputs": [
    {
     "name": "stdout",
     "output_type": "stream",
     "text": [
      "train accuracy:\t0.84683\n",
      "test accuracy:\t0.75479\n"
     ]
    }
   ],
   "source": [
    "print(\"train accuracy:\\t{0:.5f}\\ntest accuracy:\\t{1:.5f}\".format(dtc_rfecv.score(X_train, y_train), \n",
    "                                                                 dtc_rfecv.score(X_test, y_test)))"
   ]
  },
  {
   "cell_type": "markdown",
   "metadata": {},
   "source": [
    "Hm, it looks like our tree has overfit a lot more than we have liked it to, as we have nearly a 10% decrease in accuracy on the test data. It appears that preselecting features in this manner serves only to help the model to overfit, as there is no noticeable gain in test accuracy. Let us check how CV accuracy varies with the numbers of features greedily selected to identify how accuracy varies with the cardinality of best subsets of features, and save the output."
   ]
  },
  {
   "cell_type": "code",
   "execution_count": 19,
   "metadata": {},
   "outputs": [
    {
     "name": "stdout",
     "output_type": "stream",
     "text": [
      "max 5-fold cv dtc accuracy: 0.75334\n"
     ]
    },
    {
     "data": {
      "image/png": "[encoded data removed]",
      "text/plain": [
       "<Figure size 432x432 with 1 Axes>"
      ]
     },
     "metadata": {},
     "output_type": "display_data"
    }
   ],
   "source": [
    "# get cv scores\n",
    "dtc_cvscores = dtc_rfecv.grid_scores_\n",
    "# plot cv accuracy as a function of number of features\n",
    "fig, ax = plt.subplots(nrows = 1, ncols = 1, figsize = (6, 6))\n",
    "# set x, y labels and title\n",
    "ax.set_xlabel(\"number of features\")\n",
    "ax.set_ylabel(\"5-fold CV accuracy\")\n",
    "ax.set_title(\"CV accuracy of RFECV decision tree on X_train\")\n",
    "sns.lineplot([(i + 1) for i in range(len(dtc_cvscores))], dtc_cvscores, ax = ax)\n",
    "print(\"max 5-fold cv dtc accuracy: {0:.5f}\".format(max(dtc_cvscores)))\n",
    "fig.tight_layout()\n",
    "# save the figure\n",
    "fig.savefig(\"./figures/fdtc_cvscores.png\")"
   ]
  },
  {
   "cell_type": "markdown",
   "metadata": {},
   "source": [
    "The graph shows us after 10 features, we are no longer experiencing any further increases in cross-validation accuracy. It thus seems that it would be prudent to drop the unnecessary features and simply keep the top 10 features as selected by the `RFECV` object's greedy selection. Let us look at some other metrics such as misclassification rates, precision, AUC, and ROC curve for a more holistic picture of performance, as well as feature importances."
   ]
  },
  {
   "cell_type": "code",
   "execution_count": 200,
   "metadata": {},
   "outputs": [
    {
     "name": "stdout",
     "output_type": "stream",
     "text": [
      "misclassification rate for 0:\t0.32937\n",
      "misclassification rate for 1:\t0.18993\n",
      "best tree test precision:\t0.78923\n",
      "best tree test AUC:\t\t0.74035\n"
     ]
    },
    {
     "data": {
      "image/png": "[encoded data removed]",
      "text/plain": [
       "<Figure size 921.6x288 with 3 Axes>"
      ]
     },
     "metadata": {
      "needs_background": "light"
     },
     "output_type": "display_data"
    }
   ],
   "source": [
    "cmat = confusion_matrix(y_test, dtc_rfecv.predict(X_test))\n",
    "print(\"misclassification rate for 0:\\t{0:.5f}\\nmisclassification rate for 1:\\t{1:.5f}\"\n",
    "      \"\".format(cmat[0][1] / sum(cmat[0]), cmat[1][0] / sum(cmat[1])))\n",
    "# predicted values from test feature matrix\n",
    "y_test_pred = dtc_rfecv.predict(X_test)\n",
    "print(\"best tree test precision:\\t{0:.5f}\\nbest tree test AUC:\\t\\t{1:.5f}\" \n",
    "      \"\".format(precision_score(y_test, y_test_pred), roc_auc_score(y_test, y_test_pred)))\n",
    "# get fpr, tpr\n",
    "y_test_fpr, y_test_tpr, thresholds = roc_curve(y_test, y_test_pred)\n",
    "fig, axs = plt.subplots(nrows = 1, ncols = 3, figsize = (12.8, 4))\n",
    "axs[0].set_title(\"confusion matrix for best DecisionTreeClassifier\")\n",
    "sns.heatmap(cmat, annot = True, cmap = \"Blues\", cbar = False, ax = axs[0], fmt = \"d\")\n",
    "axs[1].set_title(\"ROC curve for best DecisionTreeClassifier\")\n",
    "axs[1].set_xlabel(\"false positive rate\")\n",
    "axs[1].set_ylabel(\"true positive rate\")\n",
    "sns.lineplot(y_test_fpr, y_test_tpr, color = \"coral\", ax = axs[1])\n",
    "axs[2].set_title(\"feature importances, DecisionTreeClassifier\")\n",
    "sns.barplot(data = pd.DataFrame([dtc_rfecv.estimator_.feature_importances_], \n",
    "                                columns = X.columns[dtc_rfecv.support_]), ax = axs[2], orient = \"h\")\n",
    "# supposed to prevent plots from overlapping but made the graphs more square\n",
    "fig.tight_layout()"
   ]
  },
  {
   "cell_type": "markdown",
   "metadata": {},
   "source": [
    "We see that compared to the `DecisionTreeClassifier` we trained on all 18 features in the previous notebook, metrics are about the same, although we experience a ~1% increase (decrease) in misclassification rates for 0 (1), and lose a negligible amount of precision and AUC. As with the tree in `bb200_first_impressions.ipynb`, the continuous features all have similar relative importances, with `valence` and `tempo` again begin the two most important, with `tim_4` being the only selected categorical feature. However, as usual, misclassification rates for class 0 are higher than of class 1, which is still a persistent issue. Therefore, we are motivated to apply some sort of resampling technique to balance our class proportions.\n",
    "\n",
    "Let's save our results. We will save `X_train`, `X_test`, `y_train`, and `y_test` to make sure we can reuse these data splits later, our `RFECV` object with the single tree in it, and our image with our classification statistics. This way we don't have to re-run the whole notebook again to find our features, train our models, and show pretty pictures. After all, if we want to present this stuff, who wants to sit around and wait for minutes/hours for prior results?\n",
    "\n",
    "**Remark.** Our data files are kind of big, so you will have to wait a few seconds for the cell to finish running."
   ]
  },
  {
   "cell_type": "code",
   "execution_count": 101,
   "metadata": {},
   "outputs": [],
   "source": [
    "# save all files in the data directory\n",
    "X_train.to_csv(\"./data/X_train.csv\", index = False)\n",
    "X_test.to_csv(\"./data/X_test.csv\", index = False)\n",
    "y_train.to_csv(\"./data/y_train.csv\", index = False)\n",
    "y_test.to_csv(\"./data/y_test.csv\", index = False)\n",
    "# pickle the dtc_rfecv object to the model directory\n",
    "with open(\"./models/dtc_rfecv.pickle\", \"wb\") as dtc_rfecv_file:\n",
    "    pickle.dump(dtc_rfecv, dtc_rfecv_file)\n",
    "# save our figure to the figures directory\n",
    "fig.savefig(\"./figures/dtc_rfecv_stats.png\")"
   ]
  },
  {
   "cell_type": "markdown",
   "metadata": {},
   "source": [
    "### Over-sampling: decision tree\n",
    "\n",
    "In a previous semester, my BAC group had shown that using the `imblearn` method `SMOTEENN`, a combination of using the SMOTE (Synthetic Minority Oversampling TEchnique) algorithm with edited nearest neighbors, improved the accuracy of a decision tree trained on a multi-class data set with unbalanced class proportions. We will apply `SMOTEENN` to over-sample the minority class and under-sample, and see if it helps our test accuracy and metrics.\n",
    "\n",
    "**Remark.** In case of any confusion, we apply over-sampling only to our **training** data because the test data **must** represent unbalanced reality."
   ]
  },
  {
   "cell_type": "code",
   "execution_count": 19,
   "metadata": {},
   "outputs": [
    {
     "data": {
      "text/plain": [
       "<matplotlib.axes._subplots.AxesSubplot at 0xfa3090>"
      ]
     },
     "execution_count": 19,
     "metadata": {},
     "output_type": "execute_result"
    },
    {
     "data": {
      "image/png": "[encoded data removed]",
      "text/plain": [
       "<Figure size 288x216 with 1 Axes>"
      ]
     },
     "metadata": {
      "needs_background": "light"
     },
     "output_type": "display_data"
    }
   ],
   "source": [
    "fig, ax = plt.subplots(nrows = 1, ncols = 1, figsize = (4, 3))\n",
    "sns.countplot(y_train[\"danceable\"], ax = ax)"
   ]
  },
  {
   "cell_type": "markdown",
   "metadata": {},
   "source": [
    "However, only `SMOTENC`, a vanilla SMOTE implementation for both categorical and continuous data, can be used given the presence of categorical features. But as was revealed from our feature importance chart, only one of the categorical features, `tim_4`, which indicates that a song has 4 beats per measure, was included among our 10 selected features, and has the least importance. So let's drop that feature to create our reduced feature matrix `Xr`."
   ]
  },
  {
   "cell_type": "code",
   "execution_count": 31,
   "metadata": {},
   "outputs": [
    {
     "data": {
      "text/html": [
       "<div>\n",
       "<style scoped>\n",
       "    .dataframe tbody tr th:only-of-type {\n",
       "        vertical-align: middle;\n",
       "    }\n",
       "\n",
       "    .dataframe tbody tr th {\n",
       "        vertical-align: top;\n",
       "    }\n",
       "\n",
       "    .dataframe thead th {\n",
       "        text-align: right;\n",
       "    }\n",
       "</style>\n",
       "<table border=\"1\" class=\"dataframe\">\n",
       "  <thead>\n",
       "    <tr style=\"text-align: right;\">\n",
       "      <th></th>\n",
       "      <th>acousticness</th>\n",
       "      <th>duration_ms</th>\n",
       "      <th>energy</th>\n",
       "      <th>instrumentalness</th>\n",
       "      <th>liveness</th>\n",
       "      <th>loudness</th>\n",
       "      <th>speechiness</th>\n",
       "      <th>tempo</th>\n",
       "      <th>valence</th>\n",
       "    </tr>\n",
       "  </thead>\n",
       "  <tbody>\n",
       "    <tr>\n",
       "      <td>0</td>\n",
       "      <td>-0.771097</td>\n",
       "      <td>-0.923511</td>\n",
       "      <td>0.189653</td>\n",
       "      <td>-0.406136</td>\n",
       "      <td>-0.615265</td>\n",
       "      <td>0.600249</td>\n",
       "      <td>2.594201</td>\n",
       "      <td>-0.978872</td>\n",
       "      <td>-1.181590</td>\n",
       "    </tr>\n",
       "    <tr>\n",
       "      <td>1</td>\n",
       "      <td>-0.021569</td>\n",
       "      <td>-0.820553</td>\n",
       "      <td>-0.814268</td>\n",
       "      <td>-0.406136</td>\n",
       "      <td>-0.592036</td>\n",
       "      <td>0.002556</td>\n",
       "      <td>0.507205</td>\n",
       "      <td>0.200423</td>\n",
       "      <td>-0.522012</td>\n",
       "    </tr>\n",
       "    <tr>\n",
       "      <td>2</td>\n",
       "      <td>-0.462095</td>\n",
       "      <td>-0.209574</td>\n",
       "      <td>-0.666753</td>\n",
       "      <td>-0.405946</td>\n",
       "      <td>-0.545580</td>\n",
       "      <td>0.013206</td>\n",
       "      <td>0.266696</td>\n",
       "      <td>-1.002308</td>\n",
       "      <td>-1.225035</td>\n",
       "    </tr>\n",
       "    <tr>\n",
       "      <td>3</td>\n",
       "      <td>-0.898500</td>\n",
       "      <td>-0.462059</td>\n",
       "      <td>0.185556</td>\n",
       "      <td>-0.406136</td>\n",
       "      <td>-0.568808</td>\n",
       "      <td>0.833240</td>\n",
       "      <td>1.632166</td>\n",
       "      <td>-0.885787</td>\n",
       "      <td>-0.285038</td>\n",
       "    </tr>\n",
       "    <tr>\n",
       "      <td>4</td>\n",
       "      <td>-0.872513</td>\n",
       "      <td>-0.429865</td>\n",
       "      <td>0.021650</td>\n",
       "      <td>-0.406136</td>\n",
       "      <td>-0.382983</td>\n",
       "      <td>0.960603</td>\n",
       "      <td>0.313246</td>\n",
       "      <td>2.371132</td>\n",
       "      <td>-0.000669</td>\n",
       "    </tr>\n",
       "  </tbody>\n",
       "</table>\n",
       "</div>"
      ],
      "text/plain": [
       "   acousticness  duration_ms    energy  instrumentalness  liveness  loudness  \\\n",
       "0     -0.771097    -0.923511  0.189653         -0.406136 -0.615265  0.600249   \n",
       "1     -0.021569    -0.820553 -0.814268         -0.406136 -0.592036  0.002556   \n",
       "2     -0.462095    -0.209574 -0.666753         -0.405946 -0.545580  0.013206   \n",
       "3     -0.898500    -0.462059  0.185556         -0.406136 -0.568808  0.833240   \n",
       "4     -0.872513    -0.429865  0.021650         -0.406136 -0.382983  0.960603   \n",
       "\n",
       "   speechiness     tempo   valence  \n",
       "0     2.594201 -0.978872 -1.181590  \n",
       "1     0.507205  0.200423 -0.522012  \n",
       "2     0.266696 -1.002308 -1.225035  \n",
       "3     1.632166 -0.885787 -0.285038  \n",
       "4     0.313246  2.371132 -0.000669  "
      ]
     },
     "execution_count": 31,
     "metadata": {},
     "output_type": "execute_result"
    }
   ],
   "source": [
    "Xr = X[sfdf[:-1]].copy()\n",
    "Xr.head()"
   ]
  },
  {
   "cell_type": "markdown",
   "metadata": {},
   "source": [
    "We perform the usual 80/20 `train_test_split` to get our training and test partitions, using the same value for `random_state` to make the same data partition. `BorderlineSMOTE` will give us a modified `Xr_train` which we will call `Xm_train` and a modified `yr_train` which we will call `ym_train`.\n",
    "\n",
    "**Remark.** This cell took around 2 minutes to run using `n_jobs = 2` on my machine. Results may vary."
   ]
  },
  {
   "cell_type": "code",
   "execution_count": 33,
   "metadata": {},
   "outputs": [
    {
     "name": "stdout",
     "output_type": "stream",
     "text": [
      "Xr_train shape: (271880, 9)\tyr_train shape: (271880, 1)\n"
     ]
    },
    {
     "name": "stderr",
     "output_type": "stream",
     "text": [
      "c:\\users\\d\\start\\python3\\lib\\site-packages\\sklearn\\utils\\validation.py:724: DataConversionWarning: A column-vector y was passed when a 1d array was expected. Please change the shape of y to (n_samples, ), for example using ravel().\n",
      "  y = column_or_1d(y, warn=True)\n"
     ]
    },
    {
     "name": "stdout",
     "output_type": "stream",
     "text": [
      "Xm_train shape: (188729, 9)\tym_train shape: (188729, 1)\n"
     ]
    }
   ],
   "source": [
    "# use same random state to get the same split of our training and test data\n",
    "Xr_train, Xm_test, yr_train, ym_test = train_test_split(Xr, y, test_size = 0.2, random_state = 5)\n",
    "# use constant seed for test purposes and balance classes equally. [try] to run on \n",
    "# two threads (not guaranteed) as multithreading not necessarily possible due to \n",
    "# python's (notorious?) global interpreter lock\n",
    "sme = SMOTEENN(random_state = 11, n_jobs = 2)\n",
    "# check shape pre-resample\n",
    "print(\"Xr_train shape: {0}\\tyr_train shape: {1}\".format(Xr_train.shape, yr_train.shape))\n",
    "# resample to equally balance classes; put ym_train back in DataFrame\n",
    "Xm_train, ym_train = sme.fit_resample(Xr_train, yr_train)\n",
    "ym_train = pd.DataFrame(ym_train, columns = [\"danceable\"])\n",
    "# check shape post-resample\n",
    "print(\"Xm_train shape: {0}\\tym_train shape: {1}\".format(Xm_train.shape, ym_train.shape))"
   ]
  },
  {
   "cell_type": "markdown",
   "metadata": {},
   "source": [
    "We quickly check the class frequencies in our new modified response vector `ym_train`."
   ]
  },
  {
   "cell_type": "code",
   "execution_count": 34,
   "metadata": {},
   "outputs": [
    {
     "data": {
      "text/plain": [
       "<matplotlib.axes._subplots.AxesSubplot at 0xc56ef0>"
      ]
     },
     "execution_count": 34,
     "metadata": {},
     "output_type": "execute_result"
    },
    {
     "data": {
      "image/png": "[encoded data removed]",
      "text/plain": [
       "<Figure size 288x216 with 1 Axes>"
      ]
     },
     "metadata": {
      "needs_background": "light"
     },
     "output_type": "display_data"
    }
   ],
   "source": [
    "fig, ax = plt.subplots(nrows = 1, ncols = 1, figsize = (4, 3))\n",
    "sns.countplot(ym_train[\"danceable\"], ax = ax)"
   ]
  },
  {
   "cell_type": "markdown",
   "metadata": {},
   "source": [
    "Interestingly, `SMOTEENN` has more heavily weighted the 0 class. We now perform a 5-fold cross-validated grid search using `GridSearchCV` to tune the parameters of our decision tree to see how `SMOTEENN` may affect our training and test results. Again, we use accuracy as the scoring statistic.\n",
    "\n",
    "**Remark.** This cell took around 4 minutes to run using `n_jobs = 2` on my machine. Results may vary."
   ]
  },
  {
   "cell_type": "code",
   "execution_count": 35,
   "metadata": {},
   "outputs": [
    {
     "name": "stdout",
     "output_type": "stream",
     "text": [
      "Fitting 5 folds for each of 32 candidates, totalling 160 fits\n"
     ]
    },
    {
     "name": "stderr",
     "output_type": "stream",
     "text": [
      "[Parallel(n_jobs=2)]: Using backend LokyBackend with 2 concurrent workers.\n",
      "[Parallel(n_jobs=2)]: Done  46 tasks      | elapsed:   49.4s\n",
      "[Parallel(n_jobs=2)]: Done 160 out of 160 | elapsed:  2.9min finished\n"
     ]
    },
    {
     "data": {
      "text/plain": [
       "GridSearchCV(cv=5, error_score='raise-deprecating',\n",
       "             estimator=DecisionTreeClassifier(class_weight=None,\n",
       "                                              criterion='entropy',\n",
       "                                              max_depth=None, max_features=None,\n",
       "                                              max_leaf_nodes=None,\n",
       "                                              min_impurity_decrease=0.0,\n",
       "                                              min_impurity_split=None,\n",
       "                                              min_samples_leaf=1,\n",
       "                                              min_samples_split=2,\n",
       "                                              min_weight_fraction_leaf=0.0,\n",
       "                                              presort=False, random_state=None,\n",
       "                                              splitter='best'),\n",
       "             iid='warn', n_jobs=2,\n",
       "             param_grid={'max_depth': [20, 25, 50, None],\n",
       "                         'max_features': ['auto', None],\n",
       "                         'min_samples_split': [2, 10, 20, 40]},\n",
       "             pre_dispatch='2*n_jobs', refit=True, return_train_score=False,\n",
       "             scoring='accuracy', verbose=1)"
      ]
     },
     "execution_count": 35,
     "metadata": {},
     "output_type": "execute_result"
    }
   ],
   "source": [
    "# new decision tree classifier; again use entropy\n",
    "dtc = DecisionTreeClassifier(criterion = \"entropy\")\n",
    "# same parameter grid as in bb200_first_impressions.ipynb but with some added values\n",
    "param_grid = {\"min_samples_split\": [2, 10, 20, 40], \n",
    "              \"max_depth\": [20, 25, 50, None], \n",
    "              \"max_features\": [\"auto\", None]}\n",
    "# again use accuracy as scoring metric, 5 fold cross validation, and 2 core parallel\n",
    "dtc_gscv = GridSearchCV(dtc, param_grid, scoring = \"accuracy\", n_jobs = 2, cv = 5, verbose = 1)\n",
    "dtc_gscv.fit(Xm_train, ym_train)"
   ]
  },
  {
   "cell_type": "markdown",
   "metadata": {},
   "source": [
    "As usual, we check the average cross-validated training score (accuracy) and the test score of the best fitted tree."
   ]
  },
  {
   "cell_type": "code",
   "execution_count": 36,
   "metadata": {},
   "outputs": [
    {
     "name": "stdout",
     "output_type": "stream",
     "text": [
      "5-fold CV grid accuracy:\t0.91667\n",
      "best tree grid accuracy:\t0.92238\n",
      "best tree test accuracy:\t0.75171\n"
     ]
    },
    {
     "data": {
      "text/plain": [
       "DecisionTreeClassifier(class_weight=None, criterion='entropy', max_depth=25,\n",
       "                       max_features=None, max_leaf_nodes=None,\n",
       "                       min_impurity_decrease=0.0, min_impurity_split=None,\n",
       "                       min_samples_leaf=1, min_samples_split=2,\n",
       "                       min_weight_fraction_leaf=0.0, presort=False,\n",
       "                       random_state=None, splitter='best')"
      ]
     },
     "execution_count": 36,
     "metadata": {},
     "output_type": "execute_result"
    }
   ],
   "source": [
    "# our best decision tree estimator\n",
    "dtc_best = dtc_gscv.best_estimator_\n",
    "print(\"5-fold CV grid accuracy:\\t{0:.5f}\\nbest tree grid accuracy:\\t{1:.5f}\\n\"\n",
    "      \"best tree test accuracy:\\t{2:.5f}\"\n",
    "      \"\".format(dtc_gscv.cv_results_[\"mean_test_score\"].mean(), dtc_gscv.best_score_, \n",
    "                dtc_best.score(Xm_test, ym_test)))\n",
    "# show our best decision tree estimator\n",
    "dtc_best"
   ]
  },
  {
   "cell_type": "markdown",
   "metadata": {},
   "source": [
    "Looks like 75% test accuracy is about as far as we can go. We see that `SMOTEENN` leads to the model significantly overfitting on the training data without resulting in much improvement in the test data accuracy at all. Although it is disappointing that such a powerful technique is not helping our out-of-sample performance, it matches the intuition we had in `bb200_first_impressions.ipynb`, which was that none of the categorical and only a couple of the continuous features seemed to have much meaningful variation with our response column `danceability`.\n",
    "\n",
    "We show our metrics, including misclassification rates, precision, AUC, confusion, ROC curve, and feature importances, and save the image."
   ]
  },
  {
   "cell_type": "code",
   "execution_count": 230,
   "metadata": {},
   "outputs": [
    {
     "name": "stdout",
     "output_type": "stream",
     "text": [
      "misclassification rate for 0:\t0.21844\n",
      "misclassification rate for 1:\t0.26789\n",
      "best tree test precision:\t0.83614\n",
      "best tree test AUC:\t\t0.75683\n"
     ]
    },
    {
     "data": {
      "image/png": "[encoded data removed]",
      "text/plain": [
       "<Figure size 920.16x288 with 3 Axes>"
      ]
     },
     "metadata": {
      "needs_background": "light"
     },
     "output_type": "display_data"
    }
   ],
   "source": [
    "# create figure and save figure; return figure, confusion matrix, and statistics\n",
    "fig, cmat, stats_dict = multiclass_stats(dtc_best, Xm_test, ym_test, best_model = True, \n",
    "                                         feature_ws = True, out_file = \"./figures/dtc_gscv_stats.png\")\n",
    "# misclassification rates\n",
    "print(\"misclassification rate for 0:\\t{0:.5f}\\nmisclassification rate for 1:\\t{1:.5f}\"\n",
    "      \"\".format(stats_dict[\"mc_rates\"][0], stats_dict[\"mc_rates\"][1]))\n",
    "# predicted values from test feature matrix\n",
    "print(\"best tree test precision:\\t{0:.5f}\\nbest tree test AUC:\\t\\t{1:.5f}\" \n",
    "      \"\".format(stats_dict[\"precision\"], stats_dict[\"auc\"]))"
   ]
  },
  {
   "cell_type": "markdown",
   "metadata": {},
   "source": [
    "We see that compared to the decision tree trained in `bb200_first_impressions.ipynb` and the one we used for feature elimination, this tree has reduced `min_samples_split` from 40 to 2. Although the ROC curve looks similar to that of the tree used in this notebook for our feature elimination, our AUC is slightly higher (>1%) and our precision is up by almost 5%. Our misclassification rates are still high, but are more balanced. Interestingly, class 1 is being misclassified more, due to the edited nearest neighbors cleaning resulting in more synthetic/original class 0 compared to class 1 after `SMOTEENN` terminates. The improvement in precision and misclassification rates is welcome, despite the overfitting.\n",
    "\n",
    "In the next section, we will move to try and increase our accuracy just a little bit more by using AdaBoost, first with stumps, then with real trees. Again, let's save our `Xm_train`, `Xm_test`, `ym_train`, and `ym_test` files, and pickle our `GridSearchCV` object. The reason I am saving the entire `GridSearchCV` object is for convenience, as it has all our CV statistics, and I will do the same for the other models in the future too.\n",
    "\n",
    "**Remark.** We don't need to save `ym_train` and `ym_test`, as they are the exact same as the original `y_train` and `y_test`. This is because we used `random_state = 5` to produce the same training and test data split. However, we do so anyways to keep with the naming convention of our data."
   ]
  },
  {
   "cell_type": "code",
   "execution_count": 110,
   "metadata": {},
   "outputs": [],
   "source": [
    "# save all files in the data directory; why did i not convert Xm_train to DataFrame?\n",
    "pd.DataFrame(Xm_train, columns = Xr.columns).to_csv(\"./data/Xm_train.csv\", index = False)\n",
    "Xm_test.to_csv(\"./data/Xm_test.csv\", index = False)\n",
    "ym_train.to_csv(\"./data/ym_train.csv\", index = False)\n",
    "ym_test.to_csv(\"./data/ym_test.csv\", index = False)\n",
    "# pickle the dtc_gscv object to the model directory\n",
    "with open(\"./models/dtc_gscv.pickle\", \"wb\") as dtc_gscv_file:\n",
    "    pickle.dump(dtc_gscv, dtc_gscv_file)"
   ]
  },
  {
   "cell_type": "markdown",
   "metadata": {},
   "source": [
    "### Boosting with AdaBoost: tree stumps\n",
    "\n",
    "Before we consider training AdaBoost with our tuned decision tree, we will first establish a baseline for performance by using AdaBoost on decision tree stumps, i.e. trees that have `max_depth = 1`, the default base estimator used by the `AdaBoostClassifier`. We perform a 5-fold cross-validated grid search on resampled `Xm` and `ym`, varying the learning rate and the number of estimators to train unless an early stoppage is achieved.\n",
    "\n",
    "**Remark.** We will use the default algorithm SAMME.R, as it is considered superior to SAMME.\n",
    "\n",
    "**Remark.** We continue to use the same resampled `Xm_train` and `ym_train` data for convenience purposes.\n",
    "\n",
    "**Remark.** This takes a longer time because we are fitting multiple sequences of tree stumps. With `n_jobs = 2`, it takes about 10 minutes on my machine."
   ]
  },
  {
   "cell_type": "code",
   "execution_count": 88,
   "metadata": {},
   "outputs": [
    {
     "name": "stdout",
     "output_type": "stream",
     "text": [
      "Fitting 5 folds for each of 20 candidates, totalling 100 fits\n"
     ]
    },
    {
     "name": "stderr",
     "output_type": "stream",
     "text": [
      "[Parallel(n_jobs=2)]: Using backend LokyBackend with 2 concurrent workers.\n",
      "[Parallel(n_jobs=2)]: Done  46 tasks      | elapsed:  4.1min\n",
      "[Parallel(n_jobs=2)]: Done 100 out of 100 | elapsed:  9.3min finished\n",
      "c:\\users\\d\\start\\python3\\lib\\site-packages\\sklearn\\utils\\validation.py:724: DataConversionWarning: A column-vector y was passed when a 1d array was expected. Please change the shape of y to (n_samples, ), for example using ravel().\n",
      "  y = column_or_1d(y, warn=True)\n"
     ]
    },
    {
     "data": {
      "text/plain": [
       "GridSearchCV(cv=5, error_score='raise-deprecating',\n",
       "             estimator=AdaBoostClassifier(algorithm='SAMME.R',\n",
       "                                          base_estimator=None,\n",
       "                                          learning_rate=1.0, n_estimators=50,\n",
       "                                          random_state=None),\n",
       "             iid='warn', n_jobs=2,\n",
       "             param_grid={'learning_rate': [0.01, 0.1, 1, 1.5],\n",
       "                         'n_estimators': [10, 20, 40, 50, 80]},\n",
       "             pre_dispatch='2*n_jobs', refit=True, return_train_score=False,\n",
       "             scoring='accuracy', verbose=1)"
      ]
     },
     "execution_count": 88,
     "metadata": {},
     "output_type": "execute_result"
    }
   ],
   "source": [
    "# default base estimator is DecisionTreeClassifier(max_depth = 1), a stump\n",
    "ada_stump = AdaBoostClassifier()\n",
    "ada_stump_grid = {\"n_estimators\": [10, 20, 40, 50, 80], \n",
    "            \"learning_rate\": [0.01, 0.1, 1, 1.5]}\n",
    "# again use accuracy as scoring metric, 5 fold cross validation, and 2 core parallel\n",
    "ada_stump_gscv = GridSearchCV(ada_stump, ada_stump_grid, scoring = \"accuracy\", n_jobs = 2, cv = 5, verbose = 1)\n",
    "ada_stump_gscv.fit(Xm_train, ym_train)"
   ]
  },
  {
   "cell_type": "markdown",
   "metadata": {},
   "source": [
    "As usual, we check the average cross-validated training score (accuracy) and the test score of the best boosted tree stump classifier."
   ]
  },
  {
   "cell_type": "code",
   "execution_count": 89,
   "metadata": {},
   "outputs": [
    {
     "name": "stdout",
     "output_type": "stream",
     "text": [
      "5-fold CV stump grid accuracy:\t0.86746\n",
      "best ada stump grid accuracy:\t0.91566\n",
      "best ada stump test accuracy:\t0.75670\n"
     ]
    },
    {
     "data": {
      "text/plain": [
       "AdaBoostClassifier(algorithm='SAMME.R', base_estimator=None, learning_rate=1,\n",
       "                   n_estimators=80, random_state=None)"
      ]
     },
     "execution_count": 89,
     "metadata": {},
     "output_type": "execute_result"
    }
   ],
   "source": [
    "# our best boosted tree stump classifer\n",
    "ada_stump_best = ada_stump_gscv.best_estimator_\n",
    "print(\"5-fold CV stump grid accuracy:\\t{0:.5f}\\nbest ada stump grid accuracy:\\t{1:.5f}\\n\"\n",
    "      \"best ada stump test accuracy:\\t{2:.5f}\"\n",
    "      \"\".format(ada_stump_gscv.cv_results_[\"mean_test_score\"].mean(), ada_stump_gscv.best_score_, \n",
    "                ada_stump_best.score(Xm_test, ym_test)))\n",
    "# show our best boosted tree stump estimator\n",
    "ada_stump_best"
   ]
  },
  {
   "cell_type": "markdown",
   "metadata": {},
   "source": [
    "Our boosted stumps are clearly overfitting quite severely, with over an 86% average CV accuracy dropping to 75% on the test data. Thus, they provide about the same level of accuracy on the test set as a single decision tree while being more complex and much costlier to train.\n",
    "\n",
    "Now we show the misclassification rates, precision, AUC, ROC curve, and feature importances for the stumps, and save the graphs."
   ]
  },
  {
   "cell_type": "code",
   "execution_count": 253,
   "metadata": {},
   "outputs": [
    {
     "name": "stdout",
     "output_type": "stream",
     "text": [
      "misclassification rate for 0:\t0.17302\n",
      "misclassification rate for 1:\t0.28946\n",
      "best ada stump test precision:\t0.86212\n",
      "best ada stump test AUC:\t0.76876\n"
     ]
    },
    {
     "data": {
      "image/png": "[encoded data removed]",
      "text/plain": [
       "<Figure size 921.586x288 with 3 Axes>"
      ]
     },
     "metadata": {
      "needs_background": "light"
     },
     "output_type": "display_data"
    }
   ],
   "source": [
    "# create figure and save figure; return figure, confusion matrix, and statistics\n",
    "fig, cmat, stats_dict = multiclass_stats(ada_stump_best, Xm_test, ym_test, best_model = True,\n",
    "                                         model_name = \"AdaBoosted stumps\", feature_ws = True, \n",
    "                                         out_file = \"./figures/ada_stump_gscv_stats.png\")\n",
    "# misclassification rates\n",
    "print(\"misclassification rate for 0:\\t{0:.5f}\\nmisclassification rate for 1:\\t{1:.5f}\"\n",
    "      \"\".format(stats_dict[\"mc_rates\"][0], stats_dict[\"mc_rates\"][1]))\n",
    "# predicted values from test feature matrix\n",
    "print(\"best ada stump test precision:\\t{0:.5f}\\nbest ada stump test AUC:\\t{1:.5f}\" \n",
    "      \"\".format(stats_dict[\"precision\"], stats_dict[\"auc\"]))"
   ]
  },
  {
   "cell_type": "markdown",
   "metadata": {},
   "source": [
    "The stumps are doing something interesting--they have reduced the misclassification rate for class 0 at the cost of class 1 being misclassified more often. We also see that the boosted stumps give a higher precision and slightly better AUC than the single decision tree. In terms of feature importance, the same features are again considered most important, but we see that the relative importance of the most important has been reduced, while the relative importance of the less important has been increased. This is a sign of our model overfitting more, but not to a ridiculous extent.\n",
    "\n",
    "We now move on to created a \"tuned\" boosted classifier using decision trees as base learners, hoping for the best, and pickle the `GridSearchCV` object containing our boosted stumps. Again we save the whole `GridSearchCV` object because we want the cross validation statistics."
   ]
  },
  {
   "cell_type": "code",
   "execution_count": 111,
   "metadata": {},
   "outputs": [],
   "source": [
    "with open(\"./models/ada_stump_gscv.pickle\", \"wb\") as ada_stump_gscv_file:\n",
    "    pickle.dump(ada_stump_gscv, ada_stump_gscv_file)"
   ]
  },
  {
   "cell_type": "markdown",
   "metadata": {},
   "source": [
    "### Boosting with AdaBoost: tuned decision tree\n",
    "\n",
    "Instead of using stumps, we the base learner that we will use for our new `AdaBoostClassifier` will be a full decision tree, with `max_depth = 20`, slightly less than that of the single tree that we fit on our resampled `Xm_train` reduced feature matrix."
   ]
  },
  {
   "cell_type": "code",
   "execution_count": 49,
   "metadata": {},
   "outputs": [
    {
     "data": {
      "text/plain": [
       "DecisionTreeClassifier(class_weight=None, criterion='entropy', max_depth=20,\n",
       "                       max_features=None, max_leaf_nodes=None,\n",
       "                       min_impurity_decrease=0.0, min_impurity_split=None,\n",
       "                       min_samples_leaf=1, min_samples_split=2,\n",
       "                       min_weight_fraction_leaf=0.0, presort=False,\n",
       "                       random_state=None, splitter='best')"
      ]
     },
     "execution_count": 49,
     "metadata": {},
     "output_type": "execute_result"
    }
   ],
   "source": [
    "dtc_tuned = DecisionTreeClassifier(criterion = \"entropy\", max_depth = 20)\n",
    "dtc_tuned"
   ]
  },
  {
   "cell_type": "markdown",
   "metadata": {},
   "source": [
    "**Remark.** Now that we are fitting more complex trees, the amount of time this takes is definitely nontrivial. On my machine, with `n_jobs = 2`, I am at around 35 minutes. As usual, results may vary. Sadly longer model runtime doesn't always translate into a more accurate model."
   ]
  },
  {
   "cell_type": "code",
   "execution_count": 50,
   "metadata": {},
   "outputs": [
    {
     "name": "stdout",
     "output_type": "stream",
     "text": [
      "Fitting 5 folds for each of 4 candidates, totalling 20 fits\n"
     ]
    },
    {
     "name": "stderr",
     "output_type": "stream",
     "text": [
      "[Parallel(n_jobs=2)]: Using backend LokyBackend with 2 concurrent workers.\n",
      "[Parallel(n_jobs=2)]: Done  20 out of  20 | elapsed: 19.2min finished\n",
      "c:\\users\\d\\start\\python3\\lib\\site-packages\\sklearn\\utils\\validation.py:724: DataConversionWarning: A column-vector y was passed when a 1d array was expected. Please change the shape of y to (n_samples, ), for example using ravel().\n",
      "  y = column_or_1d(y, warn=True)\n"
     ]
    },
    {
     "data": {
      "text/plain": [
       "GridSearchCV(cv=5, error_score='raise-deprecating',\n",
       "             estimator=AdaBoostClassifier(algorithm='SAMME.R',\n",
       "                                          base_estimator=DecisionTreeClassifier(class_weight=None,\n",
       "                                                                                criterion='entropy',\n",
       "                                                                                max_depth=20,\n",
       "                                                                                max_features=None,\n",
       "                                                                                max_leaf_nodes=None,\n",
       "                                                                                min_impurity_decrease=0.0,\n",
       "                                                                                min_impurity_split=None,\n",
       "                                                                                min_samples_leaf=1,\n",
       "                                                                                min_samples_split=2,\n",
       "                                                                                min_weight_fraction_leaf=0.0,\n",
       "                                                                                presort=False,\n",
       "                                                                                random_state=None,\n",
       "                                                                                splitter='best'),\n",
       "                                          learning_rate=1.0, n_estimators=50,\n",
       "                                          random_state=None),\n",
       "             iid='warn', n_jobs=2,\n",
       "             param_grid={'n_estimators': [10, 20, 40, 50]},\n",
       "             pre_dispatch='2*n_jobs', refit=True, return_train_score=False,\n",
       "             scoring='accuracy', verbose=1)"
      ]
     },
     "execution_count": 50,
     "metadata": {},
     "output_type": "execute_result"
    }
   ],
   "source": [
    "# use the tuned decision tree as the base estimator\n",
    "ada_tuned = AdaBoostClassifier(base_estimator = dtc_tuned)\n",
    "# since each tree is pretty solid on its own, vary only number of trees\n",
    "ada_tuned_grid = {\"n_estimators\": [10, 20, 40, 50]}\n",
    "# again use accuracy as scoring metric, 5 fold cross validation, and 2 core parallel\n",
    "ada_tuned_gscv = GridSearchCV(ada_tuned, ada_tuned_grid, scoring = \"accuracy\", n_jobs = 2, cv = 5, verbose = 1)\n",
    "ada_tuned_gscv.fit(Xm_train, ym_train)"
   ]
  },
  {
   "cell_type": "markdown",
   "metadata": {},
   "source": [
    "As usual, we check the average cross-validated training score (accuracy) and the test score of the best boosted tree classifier."
   ]
  },
  {
   "cell_type": "code",
   "execution_count": 51,
   "metadata": {},
   "outputs": [
    {
     "name": "stdout",
     "output_type": "stream",
     "text": [
      "5-fold CV tuned grid accuracy:\t0.95082\n",
      "best ada tuned grid accuracy:\t0.95563\n",
      "best ada tuned test accuracy:\t0.77708\n"
     ]
    },
    {
     "data": {
      "text/plain": [
       "AdaBoostClassifier(algorithm='SAMME.R',\n",
       "                   base_estimator=DecisionTreeClassifier(class_weight=None,\n",
       "                                                         criterion='entropy',\n",
       "                                                         max_depth=20,\n",
       "                                                         max_features=None,\n",
       "                                                         max_leaf_nodes=None,\n",
       "                                                         min_impurity_decrease=0.0,\n",
       "                                                         min_impurity_split=None,\n",
       "                                                         min_samples_leaf=1,\n",
       "                                                         min_samples_split=2,\n",
       "                                                         min_weight_fraction_leaf=0.0,\n",
       "                                                         presort=False,\n",
       "                                                         random_state=None,\n",
       "                                                         splitter='best'),\n",
       "                   learning_rate=1.0, n_estimators=50, random_state=None)"
      ]
     },
     "execution_count": 51,
     "metadata": {},
     "output_type": "execute_result"
    }
   ],
   "source": [
    "# our best boosted tuned tree classifer\n",
    "ada_tuned_best = ada_tuned_gscv.best_estimator_\n",
    "print(\"5-fold CV tuned grid accuracy:\\t{0:.5f}\\nbest ada tuned grid accuracy:\\t{1:.5f}\\n\"\n",
    "      \"best ada tuned test accuracy:\\t{2:.5f}\"\n",
    "      \"\".format(ada_tuned_gscv.cv_results_[\"mean_test_score\"].mean(), ada_tuned_gscv.best_score_, \n",
    "                ada_tuned_best.score(Xm_test, ym_test)))\n",
    "# show our best boosted tree estimator\n",
    "ada_tuned_best"
   ]
  },
  {
   "cell_type": "markdown",
   "metadata": {},
   "source": [
    "We trained a model for almost 40 minutes, and are still at <78% test accuracy. One can see the massive overfitting; on the training data, our accuracy is 95%. It is reasonable to think that without seriously devoting time to \"creative\" feature engineering, this is best we can do. For comparison with the single tree and boosted stumps, we show the misclassification rates, precision, AUC, and ROC curve of the boosted trees.\n",
    "\n",
    "**Remark.** We also notice that with the boosted stumps, grid search continues to choose the additive model with the largest number of trees. The potential for boosted trees to overfit is quite terrifying, and suggests that using models that underfit more provides more marginal predictive power when boosting."
   ]
  },
  {
   "cell_type": "code",
   "execution_count": 254,
   "metadata": {},
   "outputs": [
    {
     "name": "stderr",
     "output_type": "stream",
     "text": [
      "c:\\users\\d\\start\\python3\\lib\\site-packages\\sklearn\\tree\\tree.py:527: RuntimeWarning: invalid value encountered in true_divide\n",
      "  return self.tree_.compute_feature_importances()\n"
     ]
    },
    {
     "name": "stdout",
     "output_type": "stream",
     "text": [
      "misclassification rate for 0:\t0.19399\n",
      "misclassification rate for 1:\t0.24193\n",
      "best ada tuned test precision:\t0.85611\n",
      "best ada tuned test AUC:\t0.78204\n"
     ]
    },
    {
     "data": {
      "image/png": "[encoded data removed]",
      "text/plain": [
       "<Figure size 921.586x288 with 3 Axes>"
      ]
     },
     "metadata": {
      "needs_background": "light"
     },
     "output_type": "display_data"
    }
   ],
   "source": [
    "# create figure and save figure; return figure, confusion matrix, and statistics\n",
    "fig, cmat, stats_dict = multiclass_stats(ada_tuned_best, Xm_test, ym_test, best_model = True,\n",
    "                                         model_name = \"AdaBoosted trees\", feature_ws = True, \n",
    "                                         out_file = \"./figures/ada_tuned_gscv_stats.png\")\n",
    "# misclassification rates\n",
    "print(\"misclassification rate for 0:\\t{0:.5f}\\nmisclassification rate for 1:\\t{1:.5f}\"\n",
    "      \"\".format(stats_dict[\"mc_rates\"][0], stats_dict[\"mc_rates\"][1]))\n",
    "# predicted values from test feature matrix\n",
    "print(\"best ada tuned test precision:\\t{0:.5f}\\nbest ada tuned test AUC:\\t{1:.5f}\" \n",
    "      \"\".format(stats_dict[\"precision\"], stats_dict[\"auc\"]))"
   ]
  },
  {
   "cell_type": "markdown",
   "metadata": {},
   "source": [
    "Our misclassification rates are a little more balanced this time, but of course still high. Interestingly, the boosted trees have slightly less precision than the boosted stumps, but do have a slightly higher AUC and better ROC curve than both the boosted stumps and the single decision tree. However, it really does seem that without increasing the number of trees in our additive model, our accuracy is more or less bounded above by 80%. Also, it looks like speechiness was never considered as a feature to base a split on, as it has a NaN value.\n",
    "\n",
    "We try one more thing to see if tree boosting can still be profitable, and again we save the `GridSearchCV` object."
   ]
  },
  {
   "cell_type": "code",
   "execution_count": 112,
   "metadata": {},
   "outputs": [],
   "source": [
    "with open(\"./models/ada_tuned_gscv.pickle\", \"wb\") as ada_tuned_gscv_file:\n",
    "    pickle.dump(ada_tuned_gscv, ada_tuned_gscv_file)"
   ]
  },
  {
   "cell_type": "markdown",
   "metadata": {},
   "source": [
    "### Boosting with AdaBoost: increasing `n_estimators`\n",
    "\n",
    "Since we have had some marginal return by using a more complex base estimator, and we see that if given multiple values for the maximum number of trees that may be trained, grid search continues to prefer training as many trees as possible. We see that as our training accuracy increases through overfitting, we are still experiencing marginal gains in real test accuracy.\n",
    "So let's go wild, one last time, to fit up to 150 decision trees.\n",
    "\n",
    "**Remark.** Be patient with this one. On my machine, with `n_jobs = 2`, it takes more than an hour, even though it reports ~45 minutes. Oof."
   ]
  },
  {
   "cell_type": "code",
   "execution_count": 80,
   "metadata": {},
   "outputs": [
    {
     "name": "stdout",
     "output_type": "stream",
     "text": [
      "Fitting 5 folds for each of 2 candidates, totalling 10 fits\n"
     ]
    },
    {
     "name": "stderr",
     "output_type": "stream",
     "text": [
      "[Parallel(n_jobs=2)]: Using backend LokyBackend with 2 concurrent workers.\n",
      "[Parallel(n_jobs=2)]: Done  10 out of  10 | elapsed: 39.4min finished\n",
      "c:\\users\\d\\start\\python3\\lib\\site-packages\\sklearn\\utils\\validation.py:724: DataConversionWarning: A column-vector y was passed when a 1d array was expected. Please change the shape of y to (n_samples, ), for example using ravel().\n",
      "  y = column_or_1d(y, warn=True)\n"
     ]
    },
    {
     "data": {
      "text/plain": [
       "GridSearchCV(cv=5, error_score='raise-deprecating',\n",
       "             estimator=AdaBoostClassifier(algorithm='SAMME.R',\n",
       "                                          base_estimator=DecisionTreeClassifier(class_weight=None,\n",
       "                                                                                criterion='entropy',\n",
       "                                                                                max_depth=20,\n",
       "                                                                                max_features=None,\n",
       "                                                                                max_leaf_nodes=None,\n",
       "                                                                                min_impurity_decrease=0.0,\n",
       "                                                                                min_impurity_split=None,\n",
       "                                                                                min_samples_leaf=1,\n",
       "                                                                                min_samples_split=2,\n",
       "                                                                                min_weight_fraction_leaf=0.0,\n",
       "                                                                                presort=False,\n",
       "                                                                                random_state=None,\n",
       "                                                                                splitter='best'),\n",
       "                                          learning_rate=1.0, n_estimators=50,\n",
       "                                          random_state=None),\n",
       "             iid='warn', n_jobs=2, param_grid={'n_estimators': [100, 150]},\n",
       "             pre_dispatch='2*n_jobs', refit=True, return_train_score=False,\n",
       "             scoring='accuracy', verbose=1)"
      ]
     },
     "execution_count": 80,
     "metadata": {},
     "output_type": "execute_result"
    }
   ],
   "source": [
    "# extended AdaBoostClassifier\n",
    "ada_ext = AdaBoostClassifier(base_estimator = dtc_tuned)\n",
    "# focus on training the maximum number of trees possible\n",
    "ada_ext_grid = {\"n_estimators\": [100, 150]}\n",
    "# again use accuracy as scoring metric, 5 fold cross validation, and 2 core parallel\n",
    "ada_ext_gscv = GridSearchCV(ada_ext, ada_ext_grid, scoring = \"accuracy\", n_jobs = 2, cv = 5, verbose = 1)\n",
    "ada_ext_gscv.fit(Xm_train, ym_train)"
   ]
  },
  {
   "cell_type": "markdown",
   "metadata": {},
   "source": [
    "As usual, we check the average cross-validated training score (accuracy) and the test score of the best extended boosted tree classifier.\n",
    "\n",
    "**Remark.** Takes a couple seconds to run since we are running 150 trees sequentially."
   ]
  },
  {
   "cell_type": "code",
   "execution_count": 81,
   "metadata": {},
   "outputs": [
    {
     "name": "stdout",
     "output_type": "stream",
     "text": [
      "5-fold CV ext grid accuracy:\t0.95866\n",
      "best ada ext grid accuracy:\t0.95886\n",
      "best ada ext test accuracy:\t0.78049\n"
     ]
    },
    {
     "data": {
      "text/plain": [
       "AdaBoostClassifier(algorithm='SAMME.R',\n",
       "                   base_estimator=DecisionTreeClassifier(class_weight=None,\n",
       "                                                         criterion='entropy',\n",
       "                                                         max_depth=20,\n",
       "                                                         max_features=None,\n",
       "                                                         max_leaf_nodes=None,\n",
       "                                                         min_impurity_decrease=0.0,\n",
       "                                                         min_impurity_split=None,\n",
       "                                                         min_samples_leaf=1,\n",
       "                                                         min_samples_split=2,\n",
       "                                                         min_weight_fraction_leaf=0.0,\n",
       "                                                         presort=False,\n",
       "                                                         random_state=None,\n",
       "                                                         splitter='best'),\n",
       "                   learning_rate=1.0, n_estimators=150, random_state=None)"
      ]
     },
     "execution_count": 81,
     "metadata": {},
     "output_type": "execute_result"
    }
   ],
   "source": [
    "# our best boosted extended tree classifer\n",
    "ada_ext_best = ada_ext_gscv.best_estimator_\n",
    "print(\"5-fold CV ext grid accuracy:\\t{0:.5f}\\nbest ada ext grid accuracy:\\t{1:.5f}\\n\"\n",
    "      \"best ada ext test accuracy:\\t{2:.5f}\"\n",
    "      \"\".format(ada_ext_gscv.cv_results_[\"mean_test_score\"].mean(), ada_ext_gscv.best_score_, \n",
    "                ada_ext_best.score(Xm_test, ym_test)))\n",
    "# show our best extended boosted tree estimator\n",
    "ada_ext_best"
   ]
  },
  {
   "cell_type": "markdown",
   "metadata": {},
   "source": [
    "Here we train a model for more than an hour, and with an additional 100 trees of depth 10 and an additional 20 or so minutes of training, we increase training and test accuracies by less than 1 percent each. This is a good example of decreasing marginal return. Again, the model massively overfits on the training data, with almost 96% cross-validated training accuracy, but with again less than 80% accuracy on the test data. For comparison with the single tree, the 80 boosted stumps, and the 50 boosted trees, we show the misclassification rates, precision, AUC, and ROC curve of the 150 boosted trees."
   ]
  },
  {
   "cell_type": "code",
   "execution_count": 256,
   "metadata": {},
   "outputs": [
    {
     "name": "stdout",
     "output_type": "stream",
     "text": [
      "misclassification rate for 0:\t0.19391\n",
      "misclassification rate for 1:\t0.23632\n",
      "best ada ext test precision:\t0.85706\n",
      "best ada ext test AUC:\t\t0.78488\n"
     ]
    },
    {
     "data": {
      "image/png": "[encoded data removed]",
      "text/plain": [
       "<Figure size 921.586x288 with 3 Axes>"
      ]
     },
     "metadata": {
      "needs_background": "light"
     },
     "output_type": "display_data"
    }
   ],
   "source": [
    "# create figure and save figure; return figure, confusion matrix, and statistics\n",
    "fig, cmat, stats_dict = multiclass_stats(ada_ext_best, Xm_test, ym_test, best_model = True,\n",
    "                                         model_name = \"AdaBoosted ext trees\",\n",
    "                                         feature_ws = True, out_file = \"./figures/ada_ext_gscv_stats.png\")\n",
    "# misclassification rates\n",
    "print(\"misclassification rate for 0:\\t{0:.5f}\\nmisclassification rate for 1:\\t{1:.5f}\"\n",
    "      \"\".format(stats_dict[\"mc_rates\"][0], stats_dict[\"mc_rates\"][1]))\n",
    "# predicted values from test feature matrix\n",
    "print(\"best ada ext test precision:\\t{0:.5f}\\nbest ada ext test AUC:\\t\\t{1:.5f}\" \n",
    "      \"\".format(stats_dict[\"precision\"], stats_dict[\"auc\"]))"
   ]
  },
  {
   "cell_type": "markdown",
   "metadata": {},
   "source": [
    "Adding 100 extra trees to our model only ever so slightly decreases misclassification rates, increases precision, and increases AUC. Materially, performance of the 150 boosted trees is more or less the same as the performance of the 50 boosted trees, at the cost of an extra 20 minutes of waiting. Again, our test accuracy is still below the 80% upper bound, which is disappointing considering how much extra computational time has been invested.\n",
    "\n",
    "We will stop here with our consideration of models; we could say try to go for a feedforward neural network or gradient tree boosting, but our purpose in using trees was to compute feature importances, which we will now analyze. Again, we save the `GridSearchCV` object."
   ]
  },
  {
   "cell_type": "code",
   "execution_count": 132,
   "metadata": {},
   "outputs": [],
   "source": [
    "with open(\"./models/ada_ext_gscv.pickle\", \"wb\") as ada_ext_gscv_file:\n",
    "    pickle.dump(ada_ext_gscv, ada_ext_gscv_file)"
   ]
  },
  {
   "cell_type": "markdown",
   "metadata": {},
   "source": [
    "### Interpreting feature importances\n",
    "\n",
    "The great thing about tree-based classifiers such as decision trees and our boosting models is that they compute feature importances, so beyond the selection of features through a feature elimination method such as `RFECV`, we can get relative \"importances\" of each selected feature. Below, using the `feature_importances_` property of the tree-based classifiers, we take a look at exactly how the 9 continuous features we selected rank."
   ]
  },
  {
   "cell_type": "code",
   "execution_count": 140,
   "metadata": {},
   "outputs": [
    {
     "data": {
      "image/png": "[encoded data removed]",
      "text/plain": [
       "<Figure size 1728x360 with 4 Axes>"
      ]
     },
     "metadata": {
      "needs_background": "light"
     },
     "output_type": "display_data"
    }
   ],
   "source": [
    "# feature importances for the single decision tree, boosted stumps, 50 trees, and 150 trees\n",
    "dtc_best_fis = dtc_best.feature_importances_\n",
    "ada_stump_fis = ada_stump_best.feature_importances_\n",
    "ada_tuned_fis = ada_tuned_best.feature_importances_\n",
    "ada_ext_fis = ada_ext_best.feature_importances_\n",
    "# list of feature importances\n",
    "feat_imps = [dtc_best_fis, ada_stump_fis, ada_tuned_fis, ada_ext_fis]\n",
    "# create bar plots for each of the models\n",
    "# axis titles\n",
    "ax_titles = [\"feature importances, DecisionTreeClassifier\", \n",
    "             \"feature importances, AdaBoostClassifier (stump)\", \n",
    "             \"feature importances, AdaBoostClassifier (tuned)\", \n",
    "             \"feature importances, AdaBoostClassifier (ext)\"]\n",
    "fig, axs = plt.subplots(nrows = 1, ncols = 4, figsize = (24, 5))\n",
    "for feat_imp, ax_title, ax in zip(feat_imps, ax_titles, axs):\n",
    "    sns.barplot(data = pd.DataFrame([feat_imp], columns = Xm_test.columns), \n",
    "                ax = ax, orient = \"h\")\n",
    "    ax.set_title(ax_title)\n",
    "fig.tight_layout()"
   ]
  },
  {
   "cell_type": "markdown",
   "metadata": {},
   "source": [
    "We see an interesting pattern in that follows how much we are overfitting our models. The single decision tree seems to weight `valence` the highest, followed by `tempo`. The other few features are not all even; for example, `energy` is a higher than `instrumentalness`. The 80 boosted stumps still place high importance on `valence`, but less so, holding `tempo`, `speechiness`, and `energy` to be more important than before. Other features have increases in importance as well. The 50 boosted trees with `max_depth = 20` start to hold a lot of features as having similar importance, although `instrumentalness` is still considered relatively unimportant. `tempo` and `valence` are stil considered highly important, but `loudness` has all of a sudden spiked in importance, `liveness` and `duration_ms` have also both become very important, and `speechiness` is now `nan`. For the 150 boosted trees with `max_depth = 20`, the model actually has `nan` values for several of the features, and holds the remaining features to be of the relatively same level of importance.\n",
    "\n",
    "This pattern seems to follow each model's ability to overfit the cross-validated, resampled, training data. `valence` was considered the most important feature, but then as we used more and more powerful models with greater ability to overfit the training data, other features began to rise in importance, and then all the features ended up being close to the same in importance once the model began modeling noise. The 150 tree model is concerning, as it looks like the model settled on choosing simply only a few of the features, of which only `tempo` was considered important from the beginning. The `nan` values arise from numerical errors in the `sklearn` package; it may be that these features are of infinite importance and the `numpy` float has overflowed.\n",
    "\n",
    "Let's return to our original training data, with feature matrix `X_train` and response `y_train`. It looks like the combination of resampling, feature elimination, and tree boosting is only causing us to overfit and not produce any extra predictive power. We also save our figure."
   ]
  },
  {
   "cell_type": "code",
   "execution_count": 141,
   "metadata": {},
   "outputs": [],
   "source": [
    "fig.savefig(\"./figures/feature_importances_comp.png\")"
   ]
  },
  {
   "cell_type": "markdown",
   "metadata": {},
   "source": [
    "### Boosting with AdaBoost: no feature selection, no re-sampling, stumps\n",
    "\n",
    "We will try two different boosted tree models on the original `X_train` and `y_train` data, namely the 80 boosted stumps and the 50 boosted trees with `max_depth = 20`. We will then check feature importances immediately to get a sense of what seems to be predictive and what isn't.\n",
    "\n",
    "First, we try fitting the 80 boosted stumps. This takes about 2 minutes on my machine with `n_jobs = 2`."
   ]
  },
  {
   "cell_type": "code",
   "execution_count": 85,
   "metadata": {},
   "outputs": [
    {
     "name": "stdout",
     "output_type": "stream",
     "text": [
      "Fitting 5 folds for each of 1 candidates, totalling 5 fits\n"
     ]
    },
    {
     "name": "stderr",
     "output_type": "stream",
     "text": [
      "[Parallel(n_jobs=2)]: Using backend LokyBackend with 2 concurrent workers.\n",
      "[Parallel(n_jobs=2)]: Done   5 out of   5 | elapsed:  1.6min finished\n",
      "c:\\users\\d\\start\\python3\\lib\\site-packages\\sklearn\\utils\\validation.py:724: DataConversionWarning: A column-vector y was passed when a 1d array was expected. Please change the shape of y to (n_samples, ), for example using ravel().\n",
      "  y = column_or_1d(y, warn=True)\n"
     ]
    },
    {
     "data": {
      "text/plain": [
       "GridSearchCV(cv=5, error_score='raise-deprecating',\n",
       "             estimator=AdaBoostClassifier(algorithm='SAMME.R',\n",
       "                                          base_estimator=None,\n",
       "                                          learning_rate=1.0, n_estimators=50,\n",
       "                                          random_state=None),\n",
       "             iid='warn', n_jobs=2, param_grid={'n_estimators': [80]},\n",
       "             pre_dispatch='2*n_jobs', refit=True, return_train_score=False,\n",
       "             scoring='accuracy', verbose=1)"
      ]
     },
     "execution_count": 85,
     "metadata": {},
     "output_type": "execute_result"
    }
   ],
   "source": [
    "# default base estimator is DecisionTreeClassifier(max_depth = 1), a stump\n",
    "ada_fstump = AdaBoostClassifier()\n",
    "ada_fstump_grid = {\"n_estimators\": [80]}\n",
    "# again use accuracy as scoring metric, 5 fold cross validation, and 2 core parallel\n",
    "ada_fstump_gscv = GridSearchCV(ada_stump, ada_fstump_grid, scoring = \"accuracy\", n_jobs = 2, cv = 5, verbose = 1)\n",
    "ada_fstump_gscv.fit(X_train, y_train)"
   ]
  },
  {
   "cell_type": "markdown",
   "metadata": {},
   "source": [
    "As usual, we check the average cross-validated training score (accuracy) and the test score of the best boosted tree stump classifier."
   ]
  },
  {
   "cell_type": "code",
   "execution_count": 86,
   "metadata": {},
   "outputs": [
    {
     "name": "stdout",
     "output_type": "stream",
     "text": [
      "5-fold CV fstump grid accuracy:\t0.78460\n",
      "best ada fstump grid accuracy:\t0.78460\n",
      "best ada fstump test accuracy:\t0.78583\n"
     ]
    },
    {
     "data": {
      "text/plain": [
       "AdaBoostClassifier(algorithm='SAMME.R', base_estimator=None, learning_rate=1.0,\n",
       "                   n_estimators=80, random_state=None)"
      ]
     },
     "execution_count": 86,
     "metadata": {},
     "output_type": "execute_result"
    }
   ],
   "source": [
    "# our best full boosted tree stump classifer\n",
    "ada_fstump_best = ada_fstump_gscv.best_estimator_\n",
    "print(\"5-fold CV fstump grid accuracy:\\t{0:.5f}\\nbest ada fstump grid accuracy:\\t{1:.5f}\\n\"\n",
    "      \"best ada fstump test accuracy:\\t{2:.5f}\"\n",
    "      \"\".format(ada_fstump_gscv.cv_results_[\"mean_test_score\"].mean(), ada_fstump_gscv.best_score_, \n",
    "                ada_fstump_best.score(X_test, y_test)))\n",
    "# show our best full boosted tree stump estimator\n",
    "ada_fstump_best"
   ]
  },
  {
   "cell_type": "markdown",
   "metadata": {},
   "source": [
    "Although not out of the expectation, this is still surprising. Running 80 stumps on the whole training feature matrix `X_train` has resolved our overfitting problem; our training and test accuracy scores are very similar, and better than the 150 trees trained on `Xm_train`, the reduced and re-sampled training feature matrix. We show the precision, AUC, misclassification rates, and the ROC curve for our 80 boosted stumps."
   ]
  },
  {
   "cell_type": "code",
   "execution_count": 257,
   "metadata": {},
   "outputs": [
    {
     "name": "stdout",
     "output_type": "stream",
     "text": [
      "misclassification rate for 0:\t0.31639\n",
      "misclassification rate for 1:\t0.14703\n",
      "best ada fstump test precision:\t0.80410\n",
      "best ada fstump test AUC:\t0.76829\n"
     ]
    },
    {
     "data": {
      "image/png": "[encoded data removed]",
      "text/plain": [
       "<Figure size 921.586x288 with 3 Axes>"
      ]
     },
     "metadata": {
      "needs_background": "light"
     },
     "output_type": "display_data"
    }
   ],
   "source": [
    "# create figure and save figure; return figure, confusion matrix, and statistics\n",
    "fig, cmat, stats_dict = multiclass_stats(ada_fstump_best, X_test, y_test, best_model = True,\n",
    "                                         model_name = \"AdaBoosted fstumps\", feature_ws = True,\n",
    "                                         out_file = \"./figures/ada_fstump_gscv_stats.png\")\n",
    "# misclassification rates\n",
    "print(\"misclassification rate for 0:\\t{0:.5f}\\nmisclassification rate for 1:\\t{1:.5f}\"\n",
    "      \"\".format(stats_dict[\"mc_rates\"][0], stats_dict[\"mc_rates\"][1]))\n",
    "# predicted values from test feature matrix\n",
    "print(\"best ada fstump test precision:\\t{0:.5f}\\nbest ada fstump test AUC:\\t{1:.5f}\" \n",
    "      \"\".format(stats_dict[\"precision\"], stats_dict[\"auc\"]))"
   ]
  },
  {
   "cell_type": "markdown",
   "metadata": {},
   "source": [
    "Unfortunately, our misclassification rate of 0 has spiked yet again, due to the imbalance within classes, and our precision has fallen to 80%, despite an increase in AUC. Essentially, running 80 stumps on the full `X_train` produces a learner that has higher accuracy and slightly better characteristics than the original decision tree we ran on the pre-`SMOTEENN` reduce feature matrix. This is not bad; theoretically, if we add full trees, we should do better. Interestingly, a few of the time signatures and a couple of keys are flagged as having more importance than was found by the single decision tree.\n",
    "\n",
    "As usual, we save the entire `GridSearchCV` object to preserve the cross validation statistics along with our model."
   ]
  },
  {
   "cell_type": "code",
   "execution_count": 133,
   "metadata": {},
   "outputs": [],
   "source": [
    "with open(\"./models/ada_fstump_gscv.pickle\", \"wb\") as ada_fstump_gscv_file:\n",
    "    pickle.dump(ada_fstump_gscv, ada_fstump_gscv_file)"
   ]
  },
  {
   "cell_type": "markdown",
   "metadata": {},
   "source": [
    "### Key takeaways\n",
    "\n",
    "Feature elimination led to a single decision tree overfitting on the training data. Although `SMOTEENN` does ameliorate the very high misclassification rate for class 0, it decreases it at the expense of increasing the misclassification rate for class 1. However, overall model precision is increased, and the ROC curve is shifted more to the left to reflect that. As we train models harder and harder on the data, we seem to reach a limit in the tradeoff between overall accuracy and model precision. And the more we overfit the model, the less particular features matter, as the feature importances asll begin to converge to similar levels.\n",
    "\n",
    "Surprisingly, by fitting our 80 stumps on the full feature matrix, without any resampling or feature selection, we are able to achieve a slightly higher default accuracy than the 150 boosted trees on the resampled, reduced feature matrix. But, as with the other models fit on the entire feature matrix, we suffer a loss in precision and experience a significantly high misclassification rate for the 0 class. Fitting full boosted trees on the full feature matrix is now the next step."
   ]
  }
 ],
 "metadata": {
  "kernelspec": {
   "display_name": "Python 3",
   "language": "python",
   "name": "python3"
  },
  "language_info": {
   "codemirror_mode": {
    "name": "ipython",
    "version": 3
   },
   "file_extension": ".py",
   "mimetype": "text/x-python",
   "name": "python",
   "nbconvert_exporter": "python",
   "pygments_lexer": "ipython3",
   "version": "3.7.4"
  }
 },
 "nbformat": 4,
 "nbformat_minor": 2
}
